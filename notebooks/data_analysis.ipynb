{
 "cells": [
  {
   "cell_type": "code",
   "execution_count": 8,
   "id": "77b9bbb9",
   "metadata": {},
   "outputs": [
    {
     "name": "stderr",
     "output_type": "stream",
     "text": [
      "2022-06-06 16:32:15.106174: W tensorflow/stream_executor/platform/default/dso_loader.cc:64] Could not load dynamic library 'libcudart.so.11.0'; dlerror: libcudart.so.11.0: cannot open shared object file: No such file or directory\n",
      "2022-06-06 16:32:15.106770: I tensorflow/stream_executor/cuda/cudart_stub.cc:29] Ignore above cudart dlerror if you do not have a GPU set up on your machine.\n"
     ]
    }
   ],
   "source": [
    "from Two_class_model import classif_get_data, classif_training, predict_classes"
   ]
  },
  {
   "cell_type": "code",
   "execution_count": 1,
   "id": "a16fb74b",
   "metadata": {},
   "outputs": [
    {
     "name": "stdout",
     "output_type": "stream",
     "text": [
      "/home/theo/code/theopanel/bva/notebooks\r\n"
     ]
    }
   ],
   "source": [
    "!pwd"
   ]
  },
  {
   "cell_type": "code",
   "execution_count": 20,
   "id": "160cb35a",
   "metadata": {},
   "outputs": [
    {
     "name": "stdout",
     "output_type": "stream",
     "text": [
      "/home/theo/code/theopanel/bva/bva\n"
     ]
    }
   ],
   "source": [
    "cd ./bva"
   ]
  },
  {
   "cell_type": "code",
   "execution_count": 29,
   "id": "2e73e4a8",
   "metadata": {},
   "outputs": [],
   "source": [
    "from Two_class_model import predict_classes\n",
    "import numpy as np"
   ]
  },
  {
   "cell_type": "code",
   "execution_count": 23,
   "id": "dc85b79a",
   "metadata": {},
   "outputs": [
    {
     "name": "stderr",
     "output_type": "stream",
     "text": [
      "2022-06-06 20:51:36.852116: E tensorflow/stream_executor/cuda/cuda_driver.cc:271] failed call to cuInit: CUDA_ERROR_NO_DEVICE: no CUDA-capable device is detected\n",
      "2022-06-06 20:51:36.853357: I tensorflow/stream_executor/cuda/cuda_diagnostics.cc:156] kernel driver does not appear to be running on this host (PORT-TPANEL): /proc/driver/nvidia/version does not exist\n",
      "2022-06-06 20:51:36.864421: I tensorflow/core/platform/cpu_feature_guard.cc:151] This TensorFlow binary is optimized with oneAPI Deep Neural Network Library (oneDNN) to use the following CPU instructions in performance-critical operations:  AVX2 FMA\n",
      "To enable them in other operations, rebuild TensorFlow with the appropriate compiler flags.\n",
      "2022-06-06 20:51:40.884932: W tensorflow/core/common_runtime/graph_constructor.cc:803] Node 'cond/while' has 13 outputs but the _output_shapes attribute specifies shapes for 46 outputs. Output shapes may be inaccurate.\n",
      "2022-06-06 20:51:42.775522: W tensorflow/core/common_runtime/graph_constructor.cc:803] Node 'cond/while' has 13 outputs but the _output_shapes attribute specifies shapes for 46 outputs. Output shapes may be inaccurate.\n",
      "2022-06-06 20:51:42.824260: W tensorflow/core/common_runtime/graph_constructor.cc:803] Node 'cond' has 4 outputs but the _output_shapes attribute specifies shapes for 46 outputs. Output shapes may be inaccurate.\n",
      "2022-06-06 20:51:43.702948: W tensorflow/core/common_runtime/graph_constructor.cc:803] Node 'cond' has 4 outputs but the _output_shapes attribute specifies shapes for 46 outputs. Output shapes may be inaccurate.\n",
      "2022-06-06 20:51:44.231032: W tensorflow/core/common_runtime/graph_constructor.cc:803] Node 'cond/while' has 13 outputs but the _output_shapes attribute specifies shapes for 46 outputs. Output shapes may be inaccurate.\n",
      "2022-06-06 20:51:44.278612: W tensorflow/core/common_runtime/graph_constructor.cc:803] Node 'cond' has 4 outputs but the _output_shapes attribute specifies shapes for 46 outputs. Output shapes may be inaccurate.\n",
      "2022-06-06 20:51:45.570517: W tensorflow/core/common_runtime/graph_constructor.cc:803] Node 'cond/while' has 13 outputs but the _output_shapes attribute specifies shapes for 46 outputs. Output shapes may be inaccurate.\n",
      "2022-06-06 20:51:45.603271: W tensorflow/core/common_runtime/graph_constructor.cc:803] Node 'cond' has 4 outputs but the _output_shapes attribute specifies shapes for 46 outputs. Output shapes may be inaccurate.\n",
      "2022-06-06 20:51:46.346698: W tensorflow/core/common_runtime/graph_constructor.cc:803] Node 'cond/while' has 13 outputs but the _output_shapes attribute specifies shapes for 46 outputs. Output shapes may be inaccurate.\n",
      "2022-06-06 20:51:46.394458: W tensorflow/core/common_runtime/graph_constructor.cc:803] Node 'cond' has 4 outputs but the _output_shapes attribute specifies shapes for 46 outputs. Output shapes may be inaccurate.\n",
      "2022-06-06 20:51:47.529005: W tensorflow/core/common_runtime/graph_constructor.cc:803] Node 'cond/while' has 13 outputs but the _output_shapes attribute specifies shapes for 46 outputs. Output shapes may be inaccurate.\n",
      "2022-06-06 20:51:47.567520: W tensorflow/core/common_runtime/graph_constructor.cc:803] Node 'cond' has 4 outputs but the _output_shapes attribute specifies shapes for 46 outputs. Output shapes may be inaccurate.\n",
      "2022-06-06 20:51:52.093190: W tensorflow/core/common_runtime/graph_constructor.cc:803] Node 'cond/while' has 13 outputs but the _output_shapes attribute specifies shapes for 46 outputs. Output shapes may be inaccurate.\n",
      "2022-06-06 20:51:52.144535: W tensorflow/core/common_runtime/graph_constructor.cc:803] Node 'cond' has 4 outputs but the _output_shapes attribute specifies shapes for 46 outputs. Output shapes may be inaccurate.\n",
      "2022-06-06 20:51:54.693766: W tensorflow/core/common_runtime/graph_constructor.cc:803] Node 'cond/while' has 13 outputs but the _output_shapes attribute specifies shapes for 46 outputs. Output shapes may be inaccurate.\n",
      "2022-06-06 20:51:54.735249: W tensorflow/core/common_runtime/graph_constructor.cc:803] Node 'cond' has 4 outputs but the _output_shapes attribute specifies shapes for 46 outputs. Output shapes may be inaccurate.\n",
      "2022-06-06 20:51:54.877602: W tensorflow/core/common_runtime/graph_constructor.cc:803] Node 'cond/while' has 13 outputs but the _output_shapes attribute specifies shapes for 46 outputs. Output shapes may be inaccurate.\n",
      "2022-06-06 20:51:54.946699: W tensorflow/core/common_runtime/graph_constructor.cc:803] Node 'cond' has 4 outputs but the _output_shapes attribute specifies shapes for 46 outputs. Output shapes may be inaccurate.\n"
     ]
    }
   ],
   "source": [
    "y_pred = predict_classes(\"/home/theo/code/theopanel/bva/bva/data/hitnet_match9_pred_final.csv\",\n",
    "               \"/home/theo/code/theopanel/bva/bva/data/match9_1_07_11_predict.csv\",\n",
    "                       \"/home/theo/code/theopanel/bva/bva/data/match9_1_07_11_details.csv\",\n",
    "                       \"/home/theo/code/theopanel/bva/bva/data/match9_1_07_11_players.csv\",\n",
    "                       \"/home/theo/code/theopanel/bva/bva/models/2class\")"
   ]
  },
  {
   "cell_type": "code",
   "execution_count": 33,
   "id": "beb43628",
   "metadata": {},
   "outputs": [],
   "source": [
    "from preprocess import add_stroke_cat_to_dataset"
   ]
  },
  {
   "cell_type": "code",
   "execution_count": 34,
   "id": "06aadf4f",
   "metadata": {},
   "outputs": [],
   "source": [
    "clean_df = pd.read_csv(\"/home/theo/code/theopanel/bva/bva/data/clean_dataset.csv\")\n",
    "df = add_stroke_cat_to_dataset(clean_df)"
   ]
  },
  {
   "cell_type": "code",
   "execution_count": 45,
   "id": "701e764b",
   "metadata": {},
   "outputs": [],
   "source": [
    "match = df[df[\"video_path\"]==\"match9/rally_video/1_07_11.mp4\"]\n",
    "truth = match[match[\"stroke_cat\"]!=\"no_hit\"][\"stroke_cat\"]"
   ]
  },
  {
   "cell_type": "code",
   "execution_count": 56,
   "id": "d3b92cf2",
   "metadata": {},
   "outputs": [],
   "source": [
    "prev = np.where(np.argmax(y_pred, axis=1)==0, \"att_prev\", \"def_prev\")"
   ]
  },
  {
   "cell_type": "code",
   "execution_count": 57,
   "id": "13e45e14",
   "metadata": {},
   "outputs": [
    {
     "data": {
      "text/plain": [
       "(array([7., 0., 0., 0., 0., 0., 0., 0., 0., 3.]),\n",
       " array([2. , 2.1, 2.2, 2.3, 2.4, 2.5, 2.6, 2.7, 2.8, 2.9, 3. ]),\n",
       " <BarContainer object of 10 artists>)"
      ]
     },
     "execution_count": 57,
     "metadata": {},
     "output_type": "execute_result"
    },
    {
     "data": {
      "image/png": "[encoded data removed]",
      "text/plain": [
       "<Figure size 432x288 with 1 Axes>"
      ]
     },
     "metadata": {
      "needs_background": "light"
     },
     "output_type": "display_data"
    }
   ],
   "source": [
    "plt.hist(prev)\n",
    "plt.hist(truth)"
   ]
  },
  {
   "cell_type": "code",
   "execution_count": 6,
   "id": "29339ddf",
   "metadata": {},
   "outputs": [],
   "source": [
    "import pandas as pd\n",
    "import matplotlib.pyplot as plt"
   ]
  },
  {
   "cell_type": "code",
   "execution_count": 16,
   "id": "908a8220",
   "metadata": {},
   "outputs": [
    {
     "data": {
      "text/plain": [
       "<matplotlib.legend.Legend at 0x7f6d21cbcbb0>"
      ]
     },
     "execution_count": 16,
     "metadata": {},
     "output_type": "execute_result"
    },
    {
     "data": {
      "image/png": "[encoded data removed]",
      "text/plain": [
       "<Figure size 432x288 with 1 Axes>"
      ]
     },
     "metadata": {
      "needs_background": "light"
     },
     "output_type": "display_data"
    }
   ],
   "source": [
    "df = pd.read_csv(\"hitnet_match9_pred.csv\")\n",
    "df\n",
    "plt.plot(df[\"0\"][:100], label=\"no_hit\")\n",
    "plt.plot(df[\"1\"][:100], label=\"hit\")\n",
    "plt.legend()"
   ]
  },
  {
   "cell_type": "code",
   "execution_count": 12,
   "id": "b1aab471",
   "metadata": {},
   "outputs": [
    {
     "name": "stderr",
     "output_type": "stream",
     "text": [
      "2022-06-06 16:40:04.833255: E tensorflow/stream_executor/cuda/cuda_driver.cc:271] failed call to cuInit: CUDA_ERROR_NO_DEVICE: no CUDA-capable device is detected\n",
      "2022-06-06 16:40:04.833972: I tensorflow/stream_executor/cuda/cuda_diagnostics.cc:156] kernel driver does not appear to be running on this host (PORT-TPANEL): /proc/driver/nvidia/version does not exist\n",
      "2022-06-06 16:40:04.852201: I tensorflow/core/platform/cpu_feature_guard.cc:151] This TensorFlow binary is optimized with oneAPI Deep Neural Network Library (oneDNN) to use the following CPU instructions in performance-critical operations:  AVX2 FMA\n",
      "To enable them in other operations, rebuild TensorFlow with the appropriate compiler flags.\n"
     ]
    },
    {
     "name": "stdout",
     "output_type": "stream",
     "text": [
      "Epoch 1/500\n",
      "74/74 [==============================] - 48s 339ms/step - loss: 0.6515 - accuracy: 0.5964 - val_loss: 0.6022 - val_accuracy: 0.6382\n",
      "Epoch 2/500\n",
      "74/74 [==============================] - 13s 182ms/step - loss: 0.5552 - accuracy: 0.7159 - val_loss: 0.5542 - val_accuracy: 0.6587\n",
      "Epoch 3/500\n",
      "74/74 [==============================] - 12s 157ms/step - loss: 0.4727 - accuracy: 0.7807 - val_loss: 0.3780 - val_accuracy: 0.8601\n",
      "Epoch 4/500\n",
      "74/74 [==============================] - 12s 166ms/step - loss: 0.4505 - accuracy: 0.7892 - val_loss: 0.4253 - val_accuracy: 0.7986\n",
      "Epoch 5/500\n",
      "74/74 [==============================] - 12s 167ms/step - loss: 0.4229 - accuracy: 0.8131 - val_loss: 0.3562 - val_accuracy: 0.8328\n",
      "Epoch 6/500\n",
      "74/74 [==============================] - 12s 162ms/step - loss: 0.4113 - accuracy: 0.7927 - val_loss: 0.3538 - val_accuracy: 0.8703\n",
      "Epoch 7/500\n",
      "74/74 [==============================] - 11s 149ms/step - loss: 0.4004 - accuracy: 0.8268 - val_loss: 0.3302 - val_accuracy: 0.8805\n",
      "Epoch 8/500\n",
      "74/74 [==============================] - 11s 152ms/step - loss: 0.3956 - accuracy: 0.8174 - val_loss: 0.4761 - val_accuracy: 0.7816\n",
      "Epoch 9/500\n",
      "74/74 [==============================] - 11s 150ms/step - loss: 0.4123 - accuracy: 0.8174 - val_loss: 0.3578 - val_accuracy: 0.8669\n",
      "Epoch 10/500\n",
      "74/74 [==============================] - 13s 173ms/step - loss: 0.3907 - accuracy: 0.8217 - val_loss: 0.4899 - val_accuracy: 0.7884\n",
      "Epoch 11/500\n",
      "74/74 [==============================] - 13s 180ms/step - loss: 0.3784 - accuracy: 0.8208 - val_loss: 0.3311 - val_accuracy: 0.8908\n",
      "Epoch 12/500\n",
      "74/74 [==============================] - 11s 150ms/step - loss: 0.3848 - accuracy: 0.8268 - val_loss: 0.3248 - val_accuracy: 0.8805\n",
      "Epoch 13/500\n",
      "74/74 [==============================] - 12s 167ms/step - loss: 0.3573 - accuracy: 0.8370 - val_loss: 0.3490 - val_accuracy: 0.8635\n",
      "Epoch 14/500\n",
      "74/74 [==============================] - 12s 159ms/step - loss: 0.3730 - accuracy: 0.8319 - val_loss: 0.3446 - val_accuracy: 0.8737\n",
      "Epoch 15/500\n",
      "74/74 [==============================] - 14s 190ms/step - loss: 0.3579 - accuracy: 0.8379 - val_loss: 0.3462 - val_accuracy: 0.8805\n",
      "Epoch 16/500\n",
      "74/74 [==============================] - 16s 213ms/step - loss: 0.3559 - accuracy: 0.8404 - val_loss: 0.3049 - val_accuracy: 0.8771\n",
      "Epoch 17/500\n",
      "74/74 [==============================] - 15s 197ms/step - loss: 0.3402 - accuracy: 0.8387 - val_loss: 0.3276 - val_accuracy: 0.8669\n",
      "Epoch 18/500\n",
      "74/74 [==============================] - 13s 173ms/step - loss: 0.3399 - accuracy: 0.8473 - val_loss: 0.5669 - val_accuracy: 0.7509\n",
      "Epoch 19/500\n",
      "74/74 [==============================] - 16s 220ms/step - loss: 0.3303 - accuracy: 0.8413 - val_loss: 0.4723 - val_accuracy: 0.7986\n",
      "Epoch 20/500\n",
      "74/74 [==============================] - 15s 200ms/step - loss: 0.3286 - accuracy: 0.8464 - val_loss: 0.3885 - val_accuracy: 0.8328\n",
      "Epoch 21/500\n",
      "74/74 [==============================] - 14s 190ms/step - loss: 0.3154 - accuracy: 0.8532 - val_loss: 0.2832 - val_accuracy: 0.8874\n",
      "Epoch 22/500\n",
      "74/74 [==============================] - 13s 171ms/step - loss: 0.3070 - accuracy: 0.8652 - val_loss: 0.4098 - val_accuracy: 0.8430\n",
      "Epoch 23/500\n",
      "74/74 [==============================] - 11s 152ms/step - loss: 0.3141 - accuracy: 0.8464 - val_loss: 0.2780 - val_accuracy: 0.8942\n",
      "Epoch 24/500\n",
      "74/74 [==============================] - 11s 149ms/step - loss: 0.3163 - accuracy: 0.8643 - val_loss: 0.4159 - val_accuracy: 0.8259\n",
      "Epoch 25/500\n",
      "74/74 [==============================] - 13s 177ms/step - loss: 0.2896 - accuracy: 0.8712 - val_loss: 0.3325 - val_accuracy: 0.8396\n",
      "Epoch 26/500\n",
      "74/74 [==============================] - 14s 189ms/step - loss: 0.3100 - accuracy: 0.8609 - val_loss: 0.2892 - val_accuracy: 0.8601\n",
      "Epoch 27/500\n",
      "74/74 [==============================] - 14s 183ms/step - loss: 0.2928 - accuracy: 0.8686 - val_loss: 0.2924 - val_accuracy: 0.8908\n",
      "Epoch 28/500\n",
      "74/74 [==============================] - 14s 185ms/step - loss: 0.2933 - accuracy: 0.8737 - val_loss: 0.3239 - val_accuracy: 0.8464\n",
      "Epoch 29/500\n",
      "74/74 [==============================] - 13s 172ms/step - loss: 0.2854 - accuracy: 0.8780 - val_loss: 0.2780 - val_accuracy: 0.8771\n",
      "Epoch 30/500\n",
      "74/74 [==============================] - 12s 161ms/step - loss: 0.2677 - accuracy: 0.8797 - val_loss: 0.5489 - val_accuracy: 0.7986\n",
      "Epoch 31/500\n",
      "74/74 [==============================] - 11s 149ms/step - loss: 0.2776 - accuracy: 0.8737 - val_loss: 0.2628 - val_accuracy: 0.8908\n",
      "Epoch 32/500\n",
      "74/74 [==============================] - 13s 177ms/step - loss: 0.2718 - accuracy: 0.8805 - val_loss: 0.2508 - val_accuracy: 0.8840\n",
      "Epoch 33/500\n",
      "74/74 [==============================] - 16s 211ms/step - loss: 0.2594 - accuracy: 0.8788 - val_loss: 0.3457 - val_accuracy: 0.8464\n",
      "Epoch 34/500\n",
      "74/74 [==============================] - 12s 159ms/step - loss: 0.2830 - accuracy: 0.8695 - val_loss: 0.2544 - val_accuracy: 0.8942\n",
      "Epoch 35/500\n",
      "74/74 [==============================] - 13s 176ms/step - loss: 0.2594 - accuracy: 0.8703 - val_loss: 0.2756 - val_accuracy: 0.8532\n",
      "Epoch 36/500\n",
      "74/74 [==============================] - 13s 180ms/step - loss: 0.2689 - accuracy: 0.8840 - val_loss: 0.2429 - val_accuracy: 0.8976\n",
      "Epoch 37/500\n",
      "74/74 [==============================] - 15s 202ms/step - loss: 0.2576 - accuracy: 0.8831 - val_loss: 0.2649 - val_accuracy: 0.8771\n",
      "Epoch 38/500\n",
      "74/74 [==============================] - 12s 161ms/step - loss: 0.2616 - accuracy: 0.8797 - val_loss: 0.2510 - val_accuracy: 0.8874\n",
      "Epoch 39/500\n",
      "74/74 [==============================] - 14s 191ms/step - loss: 0.2503 - accuracy: 0.8882 - val_loss: 0.2729 - val_accuracy: 0.8703\n",
      "Epoch 40/500\n",
      "74/74 [==============================] - 26s 348ms/step - loss: 0.2609 - accuracy: 0.8857 - val_loss: 0.3096 - val_accuracy: 0.8464\n",
      "Epoch 41/500\n",
      "74/74 [==============================] - 19s 260ms/step - loss: 0.2561 - accuracy: 0.8916 - val_loss: 0.2467 - val_accuracy: 0.9010\n",
      "Epoch 42/500\n",
      "74/74 [==============================] - 17s 236ms/step - loss: 0.2355 - accuracy: 0.8993 - val_loss: 0.2497 - val_accuracy: 0.8976\n",
      "Epoch 43/500\n",
      "74/74 [==============================] - 18s 237ms/step - loss: 0.2449 - accuracy: 0.8985 - val_loss: 0.2674 - val_accuracy: 0.8840\n",
      "Epoch 44/500\n",
      "74/74 [==============================] - 19s 259ms/step - loss: 0.2418 - accuracy: 0.8985 - val_loss: 0.2589 - val_accuracy: 0.8703\n",
      "Epoch 45/500\n",
      "74/74 [==============================] - 12s 168ms/step - loss: 0.2371 - accuracy: 0.8985 - val_loss: 0.6036 - val_accuracy: 0.8157\n",
      "Epoch 46/500\n",
      "74/74 [==============================] - 12s 162ms/step - loss: 0.2303 - accuracy: 0.8882 - val_loss: 0.3011 - val_accuracy: 0.8771\n",
      "Epoch 47/500\n",
      "74/74 [==============================] - 12s 159ms/step - loss: 0.2186 - accuracy: 0.9130 - val_loss: 0.2486 - val_accuracy: 0.8908\n",
      "Epoch 48/500\n",
      "74/74 [==============================] - 12s 163ms/step - loss: 0.2130 - accuracy: 0.9113 - val_loss: 0.7079 - val_accuracy: 0.7679\n",
      "Epoch 49/500\n",
      "74/74 [==============================] - 13s 172ms/step - loss: 0.2174 - accuracy: 0.9061 - val_loss: 0.2809 - val_accuracy: 0.9044\n",
      "Epoch 50/500\n",
      "74/74 [==============================] - 13s 171ms/step - loss: 0.2085 - accuracy: 0.9087 - val_loss: 0.2949 - val_accuracy: 0.8908\n",
      "Epoch 51/500\n",
      "74/74 [==============================] - 15s 205ms/step - loss: 0.2191 - accuracy: 0.9155 - val_loss: 0.2478 - val_accuracy: 0.9113\n",
      "Epoch 52/500\n",
      "74/74 [==============================] - 14s 195ms/step - loss: 0.2082 - accuracy: 0.9113 - val_loss: 0.2416 - val_accuracy: 0.9078\n",
      "Epoch 53/500\n",
      "74/74 [==============================] - 12s 165ms/step - loss: 0.2073 - accuracy: 0.9087 - val_loss: 0.3500 - val_accuracy: 0.8601\n",
      "Epoch 54/500\n",
      "74/74 [==============================] - 12s 156ms/step - loss: 0.2123 - accuracy: 0.9096 - val_loss: 0.2825 - val_accuracy: 0.8942\n",
      "Epoch 55/500\n",
      "74/74 [==============================] - 12s 163ms/step - loss: 0.1991 - accuracy: 0.9147 - val_loss: 0.2536 - val_accuracy: 0.8874\n",
      "Epoch 56/500\n",
      "74/74 [==============================] - 17s 230ms/step - loss: 0.1883 - accuracy: 0.9292 - val_loss: 0.2459 - val_accuracy: 0.8976\n",
      "Epoch 57/500\n",
      "74/74 [==============================] - 13s 176ms/step - loss: 0.1939 - accuracy: 0.9172 - val_loss: 0.2774 - val_accuracy: 0.9010\n",
      "Epoch 58/500\n",
      "74/74 [==============================] - 14s 183ms/step - loss: 0.1985 - accuracy: 0.9232 - val_loss: 0.2288 - val_accuracy: 0.9113\n",
      "Epoch 59/500\n",
      "74/74 [==============================] - 13s 176ms/step - loss: 0.1826 - accuracy: 0.9292 - val_loss: 0.2793 - val_accuracy: 0.9010\n",
      "Epoch 60/500\n",
      "74/74 [==============================] - 12s 157ms/step - loss: 0.1734 - accuracy: 0.9283 - val_loss: 0.2868 - val_accuracy: 0.8976\n",
      "Epoch 61/500\n",
      "74/74 [==============================] - 12s 156ms/step - loss: 0.1855 - accuracy: 0.9300 - val_loss: 0.2537 - val_accuracy: 0.9010\n",
      "Epoch 62/500\n",
      "74/74 [==============================] - 12s 160ms/step - loss: 0.1802 - accuracy: 0.9232 - val_loss: 0.3339 - val_accuracy: 0.8737\n",
      "Epoch 63/500\n",
      "74/74 [==============================] - 14s 195ms/step - loss: 0.1786 - accuracy: 0.9300 - val_loss: 0.3304 - val_accuracy: 0.8805\n",
      "Epoch 64/500\n",
      "74/74 [==============================] - 17s 229ms/step - loss: 0.1763 - accuracy: 0.9317 - val_loss: 0.2952 - val_accuracy: 0.8874\n",
      "Epoch 65/500\n",
      "74/74 [==============================] - 14s 193ms/step - loss: 0.1689 - accuracy: 0.9232 - val_loss: 0.2824 - val_accuracy: 0.8976\n",
      "Epoch 66/500\n",
      "74/74 [==============================] - 14s 188ms/step - loss: 0.1622 - accuracy: 0.9309 - val_loss: 0.3396 - val_accuracy: 0.9113\n",
      "Epoch 67/500\n",
      "74/74 [==============================] - 21s 289ms/step - loss: 0.1736 - accuracy: 0.9317 - val_loss: 0.2992 - val_accuracy: 0.8805\n",
      "Epoch 68/500\n",
      "74/74 [==============================] - 24s 329ms/step - loss: 0.1556 - accuracy: 0.9394 - val_loss: 0.4216 - val_accuracy: 0.8805\n",
      "Epoch 69/500\n",
      "74/74 [==============================] - 23s 310ms/step - loss: 0.1653 - accuracy: 0.9292 - val_loss: 0.3689 - val_accuracy: 0.8805\n",
      "Epoch 70/500\n",
      "74/74 [==============================] - 25s 338ms/step - loss: 0.1420 - accuracy: 0.9480 - val_loss: 0.2612 - val_accuracy: 0.9113\n",
      "Epoch 71/500\n",
      "74/74 [==============================] - 17s 226ms/step - loss: 0.1466 - accuracy: 0.9326 - val_loss: 0.3347 - val_accuracy: 0.8942\n",
      "Epoch 72/500\n",
      "74/74 [==============================] - 12s 167ms/step - loss: 0.1480 - accuracy: 0.9394 - val_loss: 0.4993 - val_accuracy: 0.8532\n",
      "Epoch 73/500\n",
      "74/74 [==============================] - 12s 159ms/step - loss: 0.1360 - accuracy: 0.9437 - val_loss: 0.2728 - val_accuracy: 0.8976\n",
      "Epoch 74/500\n",
      "74/74 [==============================] - 12s 159ms/step - loss: 0.1467 - accuracy: 0.9445 - val_loss: 0.3293 - val_accuracy: 0.8942\n",
      "Epoch 75/500\n",
      "74/74 [==============================] - 12s 159ms/step - loss: 0.1448 - accuracy: 0.9411 - val_loss: 0.3503 - val_accuracy: 0.9078\n",
      "Epoch 76/500\n",
      "74/74 [==============================] - 12s 164ms/step - loss: 0.1523 - accuracy: 0.9411 - val_loss: 0.3771 - val_accuracy: 0.9113\n",
      "Epoch 77/500\n",
      "74/74 [==============================] - 12s 158ms/step - loss: 0.1341 - accuracy: 0.9454 - val_loss: 0.3898 - val_accuracy: 0.8976\n",
      "Epoch 78/500\n",
      "74/74 [==============================] - 13s 180ms/step - loss: 0.1508 - accuracy: 0.9369 - val_loss: 0.2944 - val_accuracy: 0.9215\n",
      "Epoch 79/500\n",
      "74/74 [==============================] - 13s 181ms/step - loss: 0.1580 - accuracy: 0.9437 - val_loss: 0.2713 - val_accuracy: 0.9010\n",
      "Epoch 80/500\n",
      "74/74 [==============================] - 12s 161ms/step - loss: 0.1368 - accuracy: 0.9454 - val_loss: 0.2662 - val_accuracy: 0.8874\n",
      "Epoch 81/500\n",
      "74/74 [==============================] - 12s 160ms/step - loss: 0.1380 - accuracy: 0.9497 - val_loss: 0.2790 - val_accuracy: 0.9215\n",
      "Epoch 82/500\n",
      "74/74 [==============================] - 12s 162ms/step - loss: 0.1169 - accuracy: 0.9539 - val_loss: 0.3568 - val_accuracy: 0.8976\n",
      "Epoch 83/500\n",
      "74/74 [==============================] - 12s 161ms/step - loss: 0.1277 - accuracy: 0.9522 - val_loss: 0.4576 - val_accuracy: 0.8737\n",
      "Epoch 84/500\n",
      "74/74 [==============================] - 13s 173ms/step - loss: 0.1328 - accuracy: 0.9480 - val_loss: 0.3452 - val_accuracy: 0.9078\n",
      "Epoch 85/500\n",
      "74/74 [==============================] - 12s 160ms/step - loss: 0.1283 - accuracy: 0.9514 - val_loss: 0.4664 - val_accuracy: 0.8840\n",
      "Epoch 86/500\n",
      "74/74 [==============================] - 12s 161ms/step - loss: 0.1285 - accuracy: 0.9514 - val_loss: 0.4703 - val_accuracy: 0.9147\n",
      "Epoch 87/500\n",
      "74/74 [==============================] - 12s 159ms/step - loss: 0.1297 - accuracy: 0.9497 - val_loss: 0.4676 - val_accuracy: 0.8908\n",
      "Epoch 88/500\n",
      "74/74 [==============================] - 14s 194ms/step - loss: 0.1265 - accuracy: 0.9514 - val_loss: 0.3667 - val_accuracy: 0.9010\n"
     ]
    },
    {
     "name": "stderr",
     "output_type": "stream",
     "text": [
      "2022-06-06 17:01:35.421266: W tensorflow/python/util/util.cc:368] Sets are not currently considered sequences, but this may change in the future, so consider avoiding using them.\n",
      "WARNING:absl:Found untraced functions such as gru_cell_layer_call_fn, gru_cell_layer_call_and_return_conditional_losses, gru_cell_1_layer_call_fn, gru_cell_1_layer_call_and_return_conditional_losses, gru_cell_2_layer_call_fn while saving (showing 5 of 15). These functions will not be directly callable after loading.\n"
     ]
    },
    {
     "ename": "PermissionDeniedError",
     "evalue": "/bva; Permission denied",
     "output_type": "error",
     "traceback": [
      "\u001b[0;31m---------------------------------------------------------------------------\u001b[0m",
      "\u001b[0;31mPermissionDeniedError\u001b[0m                     Traceback (most recent call last)",
      "\u001b[0;32m/tmp/ipykernel_20714/1303909054.py\u001b[0m in \u001b[0;36m<module>\u001b[0;34m\u001b[0m\n\u001b[0;32m----> 1\u001b[0;31m \u001b[0mmodel\u001b[0m\u001b[0;34m,\u001b[0m \u001b[0mhistory\u001b[0m\u001b[0;34m,\u001b[0m \u001b[0mtest_dict\u001b[0m \u001b[0;34m=\u001b[0m \u001b[0mclassif_training\u001b[0m\u001b[0;34m(\u001b[0m\u001b[0;34m)\u001b[0m\u001b[0;34m\u001b[0m\u001b[0;34m\u001b[0m\u001b[0m\n\u001b[0m",
      "\u001b[0;32m~/code/theopanel/bva/bva/Two_class_model.py\u001b[0m in \u001b[0;36mclassif_training\u001b[0;34m(filename)\u001b[0m\n\u001b[1;32m     65\u001b[0m     \u001b[0mmodel\u001b[0m \u001b[0;34m=\u001b[0m \u001b[0mclassif_model\u001b[0m\u001b[0;34m(\u001b[0m\u001b[0;34m)\u001b[0m\u001b[0;34m\u001b[0m\u001b[0;34m\u001b[0m\u001b[0m\n\u001b[1;32m     66\u001b[0m     \u001b[0mmodel\u001b[0m\u001b[0;34m,\u001b[0m \u001b[0mhistory\u001b[0m \u001b[0;34m=\u001b[0m \u001b[0mclassif_fitting\u001b[0m\u001b[0;34m(\u001b[0m\u001b[0mmodel\u001b[0m\u001b[0;34m,\u001b[0m \u001b[0mX_train\u001b[0m\u001b[0;34m,\u001b[0m \u001b[0my_train\u001b[0m\u001b[0;34m,\u001b[0m \u001b[0mX_val\u001b[0m\u001b[0;34m,\u001b[0m \u001b[0my_val\u001b[0m\u001b[0;34m)\u001b[0m\u001b[0;34m\u001b[0m\u001b[0;34m\u001b[0m\u001b[0m\n\u001b[0;32m---> 67\u001b[0;31m     \u001b[0msave_model\u001b[0m\u001b[0;34m(\u001b[0m\u001b[0mmodel\u001b[0m\u001b[0;34m,\u001b[0m \u001b[0mfilename\u001b[0m\u001b[0;34m)\u001b[0m\u001b[0;34m\u001b[0m\u001b[0;34m\u001b[0m\u001b[0m\n\u001b[0m\u001b[1;32m     68\u001b[0m     \u001b[0;32mreturn\u001b[0m \u001b[0mmodel\u001b[0m\u001b[0;34m,\u001b[0m \u001b[0mhistory\u001b[0m\u001b[0;34m,\u001b[0m \u001b[0mtest_dict\u001b[0m\u001b[0;34m\u001b[0m\u001b[0;34m\u001b[0m\u001b[0m\n\u001b[1;32m     69\u001b[0m \u001b[0;34m\u001b[0m\u001b[0m\n",
      "\u001b[0;32m~/.pyenv/versions/3.8.12/envs/lewagon/lib/python3.8/site-packages/keras/utils/traceback_utils.py\u001b[0m in \u001b[0;36merror_handler\u001b[0;34m(*args, **kwargs)\u001b[0m\n\u001b[1;32m     65\u001b[0m     \u001b[0;32mexcept\u001b[0m \u001b[0mException\u001b[0m \u001b[0;32mas\u001b[0m \u001b[0me\u001b[0m\u001b[0;34m:\u001b[0m  \u001b[0;31m# pylint: disable=broad-except\u001b[0m\u001b[0;34m\u001b[0m\u001b[0;34m\u001b[0m\u001b[0m\n\u001b[1;32m     66\u001b[0m       \u001b[0mfiltered_tb\u001b[0m \u001b[0;34m=\u001b[0m \u001b[0m_process_traceback_frames\u001b[0m\u001b[0;34m(\u001b[0m\u001b[0me\u001b[0m\u001b[0;34m.\u001b[0m\u001b[0m__traceback__\u001b[0m\u001b[0;34m)\u001b[0m\u001b[0;34m\u001b[0m\u001b[0;34m\u001b[0m\u001b[0m\n\u001b[0;32m---> 67\u001b[0;31m       \u001b[0;32mraise\u001b[0m \u001b[0me\u001b[0m\u001b[0;34m.\u001b[0m\u001b[0mwith_traceback\u001b[0m\u001b[0;34m(\u001b[0m\u001b[0mfiltered_tb\u001b[0m\u001b[0;34m)\u001b[0m \u001b[0;32mfrom\u001b[0m \u001b[0;32mNone\u001b[0m\u001b[0;34m\u001b[0m\u001b[0;34m\u001b[0m\u001b[0m\n\u001b[0m\u001b[1;32m     68\u001b[0m     \u001b[0;32mfinally\u001b[0m\u001b[0;34m:\u001b[0m\u001b[0;34m\u001b[0m\u001b[0;34m\u001b[0m\u001b[0m\n\u001b[1;32m     69\u001b[0m       \u001b[0;32mdel\u001b[0m \u001b[0mfiltered_tb\u001b[0m\u001b[0;34m\u001b[0m\u001b[0;34m\u001b[0m\u001b[0m\n",
      "\u001b[0;32m~/.pyenv/versions/3.8.12/envs/lewagon/lib/python3.8/site-packages/tensorflow/python/lib/io/file_io.py\u001b[0m in \u001b[0;36mrecursive_create_dir_v2\u001b[0;34m(path)\u001b[0m\n\u001b[1;32m    513\u001b[0m     \u001b[0merrors\u001b[0m\u001b[0;34m.\u001b[0m\u001b[0mOpError\u001b[0m\u001b[0;34m:\u001b[0m \u001b[0mIf\u001b[0m \u001b[0mthe\u001b[0m \u001b[0moperation\u001b[0m \u001b[0mfails\u001b[0m\u001b[0;34m.\u001b[0m\u001b[0;34m\u001b[0m\u001b[0;34m\u001b[0m\u001b[0m\n\u001b[1;32m    514\u001b[0m   \"\"\"\n\u001b[0;32m--> 515\u001b[0;31m   \u001b[0m_pywrap_file_io\u001b[0m\u001b[0;34m.\u001b[0m\u001b[0mRecursivelyCreateDir\u001b[0m\u001b[0;34m(\u001b[0m\u001b[0mcompat\u001b[0m\u001b[0;34m.\u001b[0m\u001b[0mpath_to_bytes\u001b[0m\u001b[0;34m(\u001b[0m\u001b[0mpath\u001b[0m\u001b[0;34m)\u001b[0m\u001b[0;34m)\u001b[0m\u001b[0;34m\u001b[0m\u001b[0;34m\u001b[0m\u001b[0m\n\u001b[0m\u001b[1;32m    516\u001b[0m \u001b[0;34m\u001b[0m\u001b[0m\n\u001b[1;32m    517\u001b[0m \u001b[0;34m\u001b[0m\u001b[0m\n",
      "\u001b[0;31mPermissionDeniedError\u001b[0m: /bva; Permission denied"
     ]
    }
   ],
   "source": [
    "model, history, test_dict = classif_training()"
   ]
  },
  {
   "cell_type": "code",
   "execution_count": 7,
   "id": "f9829eca",
   "metadata": {},
   "outputs": [
    {
     "ename": "NameError",
     "evalue": "name 'history' is not defined",
     "output_type": "error",
     "traceback": [
      "\u001b[0;31m---------------------------------------------------------------------------\u001b[0m",
      "\u001b[0;31mNameError\u001b[0m                                 Traceback (most recent call last)",
      "\u001b[0;32m/tmp/ipykernel_31109/988729669.py\u001b[0m in \u001b[0;36m<module>\u001b[0;34m\u001b[0m\n\u001b[0;32m----> 1\u001b[0;31m \u001b[0mplt\u001b[0m\u001b[0;34m.\u001b[0m\u001b[0mplot\u001b[0m\u001b[0;34m(\u001b[0m\u001b[0mhistory\u001b[0m\u001b[0;34m.\u001b[0m\u001b[0mhistory\u001b[0m\u001b[0;34m[\u001b[0m\u001b[0;34m\"loss\"\u001b[0m\u001b[0;34m]\u001b[0m\u001b[0;34m,\u001b[0m \u001b[0mlabel\u001b[0m\u001b[0;34m=\u001b[0m\u001b[0;34m\"Train\"\u001b[0m\u001b[0;34m)\u001b[0m\u001b[0;34m\u001b[0m\u001b[0;34m\u001b[0m\u001b[0m\n\u001b[0m\u001b[1;32m      2\u001b[0m \u001b[0mplt\u001b[0m\u001b[0;34m.\u001b[0m\u001b[0mplot\u001b[0m\u001b[0;34m(\u001b[0m\u001b[0mhistory\u001b[0m\u001b[0;34m.\u001b[0m\u001b[0mhistory\u001b[0m\u001b[0;34m[\u001b[0m\u001b[0;34m\"val_loss\"\u001b[0m\u001b[0;34m]\u001b[0m\u001b[0;34m,\u001b[0m \u001b[0mlabel\u001b[0m\u001b[0;34m=\u001b[0m\u001b[0;34m\"Val\"\u001b[0m\u001b[0;34m)\u001b[0m\u001b[0;34m\u001b[0m\u001b[0;34m\u001b[0m\u001b[0m\n\u001b[1;32m      3\u001b[0m \u001b[0mplt\u001b[0m\u001b[0;34m.\u001b[0m\u001b[0mlegend\u001b[0m\u001b[0;34m(\u001b[0m\u001b[0;34m)\u001b[0m\u001b[0;34m;\u001b[0m\u001b[0;34m\u001b[0m\u001b[0;34m\u001b[0m\u001b[0m\n",
      "\u001b[0;31mNameError\u001b[0m: name 'history' is not defined"
     ]
    }
   ],
   "source": [
    "plt.plot(history.history[\"loss\"], label=\"Train\")\n",
    "plt.plot(history.history[\"val_loss\"], label=\"Val\")\n",
    "plt.legend();"
   ]
  },
  {
   "cell_type": "code",
   "execution_count": null,
   "id": "b265b2ba",
   "metadata": {},
   "outputs": [],
   "source": [
    "plt.plot(history.history[\"accuracy\"], label=\"Train\")\n",
    "plt.plot(history.history[\"val_accuracy\"], label=\"Val\")\n",
    "plt.legend();"
   ]
  }
 ],
 "metadata": {
  "kernelspec": {
   "display_name": "Python 3 (ipykernel)",
   "language": "python",
   "name": "python3"
  },
  "language_info": {
   "codemirror_mode": {
    "name": "ipython",
    "version": 3
   },
   "file_extension": ".py",
   "mimetype": "text/x-python",
   "name": "python",
   "nbconvert_exporter": "python",
   "pygments_lexer": "ipython3",
   "version": "3.8.12"
  },
  "toc": {
   "base_numbering": 1,
   "nav_menu": {},
   "number_sections": true,
   "sideBar": true,
   "skip_h1_title": false,
   "title_cell": "Table of Contents",
   "title_sidebar": "Contents",
   "toc_cell": false,
   "toc_position": {},
   "toc_section_display": true,
   "toc_window_display": false
  }
 },
 "nbformat": 4,
 "nbformat_minor": 5
}
