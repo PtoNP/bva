{
  "nbformat": 4,
  "nbformat_minor": 0,
  "metadata": {
    "colab": {
      "name": "Modèle.ipynb",
      "provenance": [],
      "collapsed_sections": [
        "waBdxatfiagP",
        "ld_ZDhcb9zIz",
        "Fc4PlQEfNq1G"
      ]
    },
    "kernelspec": {
      "name": "python3",
      "display_name": "Python 3"
    },
    "language_info": {
      "name": "python"
    },
    "accelerator": "GPU"
  },
  "cells": [
    {
      "cell_type": "code",
      "source": [
        "%load_ext autoreload\n",
        "%autoreload 2"
      ],
      "metadata": {
        "id": "SAsU485kND5_"
      },
      "execution_count": 1,
      "outputs": []
    },
    {
      "cell_type": "code",
      "source": [
        "! git clone https://github.com/fransoa2607/bva.git"
      ],
      "metadata": {
        "colab": {
          "base_uri": "https://localhost:8080/"
        },
        "id": "aJQY--uqSzgY",
        "outputId": "43b76bc5-bb7b-4eda-b330-10ea8e019009"
      },
      "execution_count": 2,
      "outputs": [
        {
          "output_type": "stream",
          "name": "stdout",
          "text": [
            "Cloning into 'bva'...\n",
            "remote: Enumerating objects: 528, done.\u001b[K\n",
            "remote: Counting objects: 100% (173/173), done.\u001b[K\n",
            "remote: Compressing objects: 100% (119/119), done.\u001b[K\n",
            "remote: Total 528 (delta 77), reused 135 (delta 51), pack-reused 355\u001b[K\n",
            "Receiving objects: 100% (528/528), 100.31 MiB | 22.85 MiB/s, done.\n",
            "Resolving deltas: 100% (282/282), done.\n"
          ]
        }
      ]
    },
    {
      "cell_type": "code",
      "source": [
        "%env PYTHONPATH=\"$/env/python:/content/bva\"\n",
        "! echo $PYTHONPATH"
      ],
      "metadata": {
        "colab": {
          "base_uri": "https://localhost:8080/"
        },
        "id": "W3gkwIPbX6Wu",
        "outputId": "f658b934-d147-4507-d64b-28ceaf49a52a"
      },
      "execution_count": 3,
      "outputs": [
        {
          "output_type": "stream",
          "name": "stdout",
          "text": [
            "env: PYTHONPATH=\"$/env/python:/content/bva\"\n",
            "\"$/env/python:/content/bva\"\n"
          ]
        }
      ]
    },
    {
      "cell_type": "code",
      "source": [
        "cd ./bva/bva/"
      ],
      "metadata": {
        "colab": {
          "base_uri": "https://localhost:8080/"
        },
        "id": "07_yi6KyWiJS",
        "outputId": "25d62187-837f-48ad-ca8c-4a82b942641f"
      },
      "execution_count": 4,
      "outputs": [
        {
          "output_type": "stream",
          "name": "stdout",
          "text": [
            "/content/bva/bva\n"
          ]
        }
      ]
    },
    {
      "cell_type": "code",
      "source": [
        "from Tclass_model import classif_training"
      ],
      "metadata": {
        "id": "R-_JtjpppbWx"
      },
      "execution_count": 7,
      "outputs": []
    },
    {
      "cell_type": "code",
      "source": [
        "model, history, test_dict = classif_training()"
      ],
      "metadata": {
        "id": "RaAWKSlmpueJ"
      },
      "execution_count": null,
      "outputs": []
    },
    {
      "cell_type": "markdown",
      "source": [
        "## Test classif"
      ],
      "metadata": {
        "id": "bIAaQnHyv14N"
      }
    },
    {
      "cell_type": "code",
      "source": [
        "from google.colab import drive\n",
        "drive.mount('/content/drive')"
      ],
      "metadata": {
        "colab": {
          "base_uri": "https://localhost:8080/"
        },
        "id": "MFNNzR8Wu8eq",
        "outputId": "fee61da8-a57a-477c-c8cd-9e1d3663da02"
      },
      "execution_count": 9,
      "outputs": [
        {
          "output_type": "stream",
          "name": "stdout",
          "text": [
            "Mounted at /content/drive\n"
          ]
        }
      ]
    },
    {
      "cell_type": "code",
      "source": [
        "from Tclass_model import predict_classes\n",
        "import pandas as pd"
      ],
      "metadata": {
        "id": "ScZ0F5OQvyp-"
      },
      "execution_count": 14,
      "outputs": []
    },
    {
      "cell_type": "code",
      "source": [
        "y_pred = predict_classes(\"/content/bva/bva/data/hitnet_match9_pred_final.csv\",\n",
        "                \"/content/bva/bva/data/match9_1_07_11_predict.csv\",\n",
        "                \"/content/bva/bva/data/match9_1_07_11_details.csv\",\n",
        "                \"/content/bva/bva/data/match9_1_07_11_players.csv\",\n",
        "                \"/content/bva/bva/models/2class\")"
      ],
      "metadata": {
        "id": "HyPuRRq3v7iM"
      },
      "execution_count": 17,
      "outputs": []
    },
    {
      "cell_type": "code",
      "source": [
        "pd.DataFrame(y_pred, columns=[\"att\", \"def\"])"
      ],
      "metadata": {
        "colab": {
          "base_uri": "https://localhost:8080/",
          "height": 321
        },
        "id": "ycC8LVSG0uUF",
        "outputId": "8d44b34e-a797-4c92-ab46-b3f14f2c934e"
      },
      "execution_count": 18,
      "outputs": [
        {
          "output_type": "execute_result",
          "data": {
            "text/plain": [
              "            att           def\n",
              "0  9.999888e-01  1.121113e-05\n",
              "1  9.947731e-01  5.226880e-03\n",
              "2  7.560677e-05  9.999244e-01\n",
              "3  3.681011e-09  1.000000e+00\n",
              "4  9.999995e-01  4.249381e-07\n",
              "5  9.934701e-01  6.529935e-03\n",
              "6  9.999219e-01  7.809651e-05\n",
              "7  9.999948e-01  5.260240e-06\n",
              "8  2.089213e-12  1.000000e+00\n",
              "9  5.434296e-03  9.945657e-01"
            ],
            "text/html": [
              "\n",
              "  <div id=\"df-76f66052-fde9-486e-b20b-5d2ed72512da\">\n",
              "    <div class=\"colab-df-container\">\n",
              "      <div>\n",
              "<style scoped>\n",
              "    .dataframe tbody tr th:only-of-type {\n",
              "        vertical-align: middle;\n",
              "    }\n",
              "\n",
              "    .dataframe tbody tr th {\n",
              "        vertical-align: top;\n",
              "    }\n",
              "\n",
              "    .dataframe thead th {\n",
              "        text-align: right;\n",
              "    }\n",
              "</style>\n",
              "<table border=\"1\" class=\"dataframe\">\n",
              "  <thead>\n",
              "    <tr style=\"text-align: right;\">\n",
              "      <th></th>\n",
              "      <th>att</th>\n",
              "      <th>def</th>\n",
              "    </tr>\n",
              "  </thead>\n",
              "  <tbody>\n",
              "    <tr>\n",
              "      <th>0</th>\n",
              "      <td>9.999888e-01</td>\n",
              "      <td>1.121113e-05</td>\n",
              "    </tr>\n",
              "    <tr>\n",
              "      <th>1</th>\n",
              "      <td>9.947731e-01</td>\n",
              "      <td>5.226880e-03</td>\n",
              "    </tr>\n",
              "    <tr>\n",
              "      <th>2</th>\n",
              "      <td>7.560677e-05</td>\n",
              "      <td>9.999244e-01</td>\n",
              "    </tr>\n",
              "    <tr>\n",
              "      <th>3</th>\n",
              "      <td>3.681011e-09</td>\n",
              "      <td>1.000000e+00</td>\n",
              "    </tr>\n",
              "    <tr>\n",
              "      <th>4</th>\n",
              "      <td>9.999995e-01</td>\n",
              "      <td>4.249381e-07</td>\n",
              "    </tr>\n",
              "    <tr>\n",
              "      <th>5</th>\n",
              "      <td>9.934701e-01</td>\n",
              "      <td>6.529935e-03</td>\n",
              "    </tr>\n",
              "    <tr>\n",
              "      <th>6</th>\n",
              "      <td>9.999219e-01</td>\n",
              "      <td>7.809651e-05</td>\n",
              "    </tr>\n",
              "    <tr>\n",
              "      <th>7</th>\n",
              "      <td>9.999948e-01</td>\n",
              "      <td>5.260240e-06</td>\n",
              "    </tr>\n",
              "    <tr>\n",
              "      <th>8</th>\n",
              "      <td>2.089213e-12</td>\n",
              "      <td>1.000000e+00</td>\n",
              "    </tr>\n",
              "    <tr>\n",
              "      <th>9</th>\n",
              "      <td>5.434296e-03</td>\n",
              "      <td>9.945657e-01</td>\n",
              "    </tr>\n",
              "  </tbody>\n",
              "</table>\n",
              "</div>\n",
              "      <button class=\"colab-df-convert\" onclick=\"convertToInteractive('df-76f66052-fde9-486e-b20b-5d2ed72512da')\"\n",
              "              title=\"Convert this dataframe to an interactive table.\"\n",
              "              style=\"display:none;\">\n",
              "        \n",
              "  <svg xmlns=\"http://www.w3.org/2000/svg\" height=\"24px\"viewBox=\"0 0 24 24\"\n",
              "       width=\"24px\">\n",
              "    <path d=\"M0 0h24v24H0V0z\" fill=\"none\"/>\n",
              "    <path d=\"M18.56 5.44l.94 2.06.94-2.06 2.06-.94-2.06-.94-.94-2.06-.94 2.06-2.06.94zm-11 1L8.5 8.5l.94-2.06 2.06-.94-2.06-.94L8.5 2.5l-.94 2.06-2.06.94zm10 10l.94 2.06.94-2.06 2.06-.94-2.06-.94-.94-2.06-.94 2.06-2.06.94z\"/><path d=\"M17.41 7.96l-1.37-1.37c-.4-.4-.92-.59-1.43-.59-.52 0-1.04.2-1.43.59L10.3 9.45l-7.72 7.72c-.78.78-.78 2.05 0 2.83L4 21.41c.39.39.9.59 1.41.59.51 0 1.02-.2 1.41-.59l7.78-7.78 2.81-2.81c.8-.78.8-2.07 0-2.86zM5.41 20L4 18.59l7.72-7.72 1.47 1.35L5.41 20z\"/>\n",
              "  </svg>\n",
              "      </button>\n",
              "      \n",
              "  <style>\n",
              "    .colab-df-container {\n",
              "      display:flex;\n",
              "      flex-wrap:wrap;\n",
              "      gap: 12px;\n",
              "    }\n",
              "\n",
              "    .colab-df-convert {\n",
              "      background-color: #E8F0FE;\n",
              "      border: none;\n",
              "      border-radius: 50%;\n",
              "      cursor: pointer;\n",
              "      display: none;\n",
              "      fill: #1967D2;\n",
              "      height: 32px;\n",
              "      padding: 0 0 0 0;\n",
              "      width: 32px;\n",
              "    }\n",
              "\n",
              "    .colab-df-convert:hover {\n",
              "      background-color: #E2EBFA;\n",
              "      box-shadow: 0px 1px 2px rgba(60, 64, 67, 0.3), 0px 1px 3px 1px rgba(60, 64, 67, 0.15);\n",
              "      fill: #174EA6;\n",
              "    }\n",
              "\n",
              "    [theme=dark] .colab-df-convert {\n",
              "      background-color: #3B4455;\n",
              "      fill: #D2E3FC;\n",
              "    }\n",
              "\n",
              "    [theme=dark] .colab-df-convert:hover {\n",
              "      background-color: #434B5C;\n",
              "      box-shadow: 0px 1px 3px 1px rgba(0, 0, 0, 0.15);\n",
              "      filter: drop-shadow(0px 1px 2px rgba(0, 0, 0, 0.3));\n",
              "      fill: #FFFFFF;\n",
              "    }\n",
              "  </style>\n",
              "\n",
              "      <script>\n",
              "        const buttonEl =\n",
              "          document.querySelector('#df-76f66052-fde9-486e-b20b-5d2ed72512da button.colab-df-convert');\n",
              "        buttonEl.style.display =\n",
              "          google.colab.kernel.accessAllowed ? 'block' : 'none';\n",
              "\n",
              "        async function convertToInteractive(key) {\n",
              "          const element = document.querySelector('#df-76f66052-fde9-486e-b20b-5d2ed72512da');\n",
              "          const dataTable =\n",
              "            await google.colab.kernel.invokeFunction('convertToInteractive',\n",
              "                                                     [key], {});\n",
              "          if (!dataTable) return;\n",
              "\n",
              "          const docLinkHtml = 'Like what you see? Visit the ' +\n",
              "            '<a target=\"_blank\" href=https://colab.research.google.com/notebooks/data_table.ipynb>data table notebook</a>'\n",
              "            + ' to learn more about interactive tables.';\n",
              "          element.innerHTML = '';\n",
              "          dataTable['output_type'] = 'display_data';\n",
              "          await google.colab.output.renderOutput(dataTable, element);\n",
              "          const docLink = document.createElement('div');\n",
              "          docLink.innerHTML = docLinkHtml;\n",
              "          element.appendChild(docLink);\n",
              "        }\n",
              "      </script>\n",
              "    </div>\n",
              "  </div>\n",
              "  "
            ]
          },
          "metadata": {},
          "execution_count": 18
        }
      ]
    },
    {
      "cell_type": "markdown",
      "source": [
        "## HITNET LEARNING"
      ],
      "metadata": {
        "id": "waBdxatfiagP"
      }
    },
    {
      "cell_type": "code",
      "source": [
        "from hitnet_model import hitnet_training, hitnet_predict_shots"
      ],
      "metadata": {
        "id": "GGhX0WkciZgt"
      },
      "execution_count": null,
      "outputs": []
    },
    {
      "cell_type": "code",
      "source": [
        "model, history, test_dict = hitnet_training()"
      ],
      "metadata": {
        "id": "iHG546_Lifv4",
        "colab": {
          "base_uri": "https://localhost:8080/"
        },
        "outputId": "eb0d168d-bfdc-4d92-a9d6-8c3952f170f1"
      },
      "execution_count": null,
      "outputs": [
        {
          "output_type": "stream",
          "name": "stdout",
          "text": [
            "Epoch 1/500\n",
            "186/186 [==============================] - 8s 19ms/step - loss: 0.6639 - accuracy: 0.6100 - val_loss: 0.6524 - val_accuracy: 0.6425\n",
            "Epoch 2/500\n",
            "186/186 [==============================] - 3s 15ms/step - loss: 0.6477 - accuracy: 0.6140 - val_loss: 0.6255 - val_accuracy: 0.6505\n",
            "Epoch 3/500\n",
            "186/186 [==============================] - 3s 15ms/step - loss: 0.6075 - accuracy: 0.6587 - val_loss: 0.5683 - val_accuracy: 0.6922\n",
            "Epoch 4/500\n",
            "186/186 [==============================] - 3s 16ms/step - loss: 0.5565 - accuracy: 0.7001 - val_loss: 0.5182 - val_accuracy: 0.7554\n",
            "Epoch 5/500\n",
            "186/186 [==============================] - 3s 14ms/step - loss: 0.4323 - accuracy: 0.8100 - val_loss: 0.3662 - val_accuracy: 0.8320\n",
            "Epoch 6/500\n",
            "186/186 [==============================] - 3s 14ms/step - loss: 0.2816 - accuracy: 0.8863 - val_loss: 0.3278 - val_accuracy: 0.8669\n",
            "Epoch 7/500\n",
            "186/186 [==============================] - 3s 15ms/step - loss: 0.2290 - accuracy: 0.9136 - val_loss: 0.2351 - val_accuracy: 0.9167\n",
            "Epoch 8/500\n",
            "186/186 [==============================] - 3s 15ms/step - loss: 0.1819 - accuracy: 0.9270 - val_loss: 0.2785 - val_accuracy: 0.8938\n",
            "Epoch 9/500\n",
            "186/186 [==============================] - 3s 16ms/step - loss: 0.1793 - accuracy: 0.9354 - val_loss: 0.2250 - val_accuracy: 0.9073\n",
            "Epoch 10/500\n",
            "186/186 [==============================] - 3s 18ms/step - loss: 0.1503 - accuracy: 0.9415 - val_loss: 0.1935 - val_accuracy: 0.9220\n",
            "Epoch 11/500\n",
            "186/186 [==============================] - 3s 18ms/step - loss: 0.1400 - accuracy: 0.9512 - val_loss: 0.1511 - val_accuracy: 0.9462\n",
            "Epoch 12/500\n",
            "186/186 [==============================] - 3s 14ms/step - loss: 0.1283 - accuracy: 0.9526 - val_loss: 0.1426 - val_accuracy: 0.9516\n",
            "Epoch 13/500\n",
            "186/186 [==============================] - 3s 16ms/step - loss: 0.1085 - accuracy: 0.9620 - val_loss: 0.1433 - val_accuracy: 0.9449\n",
            "Epoch 14/500\n",
            "186/186 [==============================] - 3s 14ms/step - loss: 0.1283 - accuracy: 0.9546 - val_loss: 0.1460 - val_accuracy: 0.9570\n",
            "Epoch 15/500\n",
            "186/186 [==============================] - 3s 14ms/step - loss: 0.1003 - accuracy: 0.9644 - val_loss: 0.1485 - val_accuracy: 0.9449\n",
            "Epoch 16/500\n",
            "186/186 [==============================] - 3s 14ms/step - loss: 0.1142 - accuracy: 0.9576 - val_loss: 0.1569 - val_accuracy: 0.9503\n",
            "Epoch 17/500\n",
            "186/186 [==============================] - 3s 14ms/step - loss: 0.1028 - accuracy: 0.9620 - val_loss: 0.1447 - val_accuracy: 0.9395\n",
            "Epoch 18/500\n",
            "186/186 [==============================] - 3s 14ms/step - loss: 0.0946 - accuracy: 0.9664 - val_loss: 0.1523 - val_accuracy: 0.9462\n",
            "Epoch 19/500\n",
            "186/186 [==============================] - 3s 15ms/step - loss: 0.0960 - accuracy: 0.9670 - val_loss: 0.1300 - val_accuracy: 0.9489\n",
            "Epoch 20/500\n",
            "186/186 [==============================] - 3s 16ms/step - loss: 0.0980 - accuracy: 0.9660 - val_loss: 0.1296 - val_accuracy: 0.9556\n",
            "Epoch 21/500\n",
            "186/186 [==============================] - 3s 16ms/step - loss: 0.0858 - accuracy: 0.9721 - val_loss: 0.1267 - val_accuracy: 0.9543\n",
            "Epoch 22/500\n",
            "186/186 [==============================] - 3s 14ms/step - loss: 0.0869 - accuracy: 0.9694 - val_loss: 0.1921 - val_accuracy: 0.9395\n",
            "Epoch 23/500\n",
            "186/186 [==============================] - 3s 15ms/step - loss: 0.1007 - accuracy: 0.9647 - val_loss: 0.1322 - val_accuracy: 0.9516\n",
            "Epoch 24/500\n",
            "186/186 [==============================] - 3s 15ms/step - loss: 0.0726 - accuracy: 0.9771 - val_loss: 0.2683 - val_accuracy: 0.9140\n",
            "Epoch 25/500\n",
            "186/186 [==============================] - 3s 16ms/step - loss: 0.0855 - accuracy: 0.9714 - val_loss: 0.1360 - val_accuracy: 0.9570\n",
            "Epoch 26/500\n",
            "186/186 [==============================] - 3s 15ms/step - loss: 0.0733 - accuracy: 0.9755 - val_loss: 0.1245 - val_accuracy: 0.9516\n",
            "Epoch 27/500\n",
            "186/186 [==============================] - 3s 15ms/step - loss: 0.0667 - accuracy: 0.9765 - val_loss: 0.1145 - val_accuracy: 0.9610\n",
            "Epoch 28/500\n",
            "186/186 [==============================] - 3s 15ms/step - loss: 0.1014 - accuracy: 0.9617 - val_loss: 0.2675 - val_accuracy: 0.9126\n",
            "Epoch 29/500\n",
            "186/186 [==============================] - 3s 16ms/step - loss: 0.0744 - accuracy: 0.9721 - val_loss: 0.1276 - val_accuracy: 0.9530\n",
            "Epoch 30/500\n",
            "186/186 [==============================] - 3s 16ms/step - loss: 0.0598 - accuracy: 0.9805 - val_loss: 0.1719 - val_accuracy: 0.9395\n",
            "Epoch 31/500\n",
            "186/186 [==============================] - 3s 14ms/step - loss: 0.0797 - accuracy: 0.9714 - val_loss: 0.1564 - val_accuracy: 0.9435\n",
            "Epoch 32/500\n",
            "186/186 [==============================] - 3s 15ms/step - loss: 0.0667 - accuracy: 0.9768 - val_loss: 0.1276 - val_accuracy: 0.9543\n",
            "Epoch 33/500\n",
            "186/186 [==============================] - 3s 16ms/step - loss: 0.0717 - accuracy: 0.9755 - val_loss: 0.1069 - val_accuracy: 0.9570\n",
            "Epoch 34/500\n",
            "186/186 [==============================] - 4s 21ms/step - loss: 0.0661 - accuracy: 0.9765 - val_loss: 0.1182 - val_accuracy: 0.9624\n",
            "Epoch 35/500\n",
            "186/186 [==============================] - 3s 15ms/step - loss: 0.0654 - accuracy: 0.9755 - val_loss: 0.1296 - val_accuracy: 0.9543\n",
            "Epoch 36/500\n",
            "186/186 [==============================] - 3s 17ms/step - loss: 0.0583 - accuracy: 0.9798 - val_loss: 0.1415 - val_accuracy: 0.9489\n",
            "Epoch 37/500\n",
            "186/186 [==============================] - 3s 14ms/step - loss: 0.0629 - accuracy: 0.9755 - val_loss: 0.1062 - val_accuracy: 0.9651\n",
            "Epoch 38/500\n",
            "186/186 [==============================] - 3s 15ms/step - loss: 0.0556 - accuracy: 0.9825 - val_loss: 0.1333 - val_accuracy: 0.9530\n",
            "Epoch 39/500\n",
            "186/186 [==============================] - 3s 16ms/step - loss: 0.0761 - accuracy: 0.9734 - val_loss: 0.1926 - val_accuracy: 0.9422\n",
            "Epoch 40/500\n",
            "186/186 [==============================] - 3s 15ms/step - loss: 0.0632 - accuracy: 0.9761 - val_loss: 0.1242 - val_accuracy: 0.9570\n",
            "Epoch 41/500\n",
            "186/186 [==============================] - 3s 14ms/step - loss: 0.0473 - accuracy: 0.9852 - val_loss: 0.1046 - val_accuracy: 0.9651\n",
            "Epoch 42/500\n",
            "186/186 [==============================] - 3s 15ms/step - loss: 0.0506 - accuracy: 0.9829 - val_loss: 0.1570 - val_accuracy: 0.9489\n",
            "Epoch 43/500\n",
            "186/186 [==============================] - 3s 14ms/step - loss: 0.0571 - accuracy: 0.9788 - val_loss: 0.1183 - val_accuracy: 0.9556\n",
            "Epoch 44/500\n",
            "186/186 [==============================] - 3s 15ms/step - loss: 0.0455 - accuracy: 0.9825 - val_loss: 0.1337 - val_accuracy: 0.9543\n",
            "Epoch 45/500\n",
            "186/186 [==============================] - 3s 14ms/step - loss: 0.0764 - accuracy: 0.9728 - val_loss: 0.1578 - val_accuracy: 0.9422\n",
            "Epoch 46/500\n",
            "186/186 [==============================] - 3s 14ms/step - loss: 0.0641 - accuracy: 0.9792 - val_loss: 0.1277 - val_accuracy: 0.9583\n",
            "Epoch 47/500\n",
            "186/186 [==============================] - 3s 14ms/step - loss: 0.0485 - accuracy: 0.9798 - val_loss: 0.1234 - val_accuracy: 0.9597\n",
            "Epoch 48/500\n",
            "186/186 [==============================] - 3s 16ms/step - loss: 0.0495 - accuracy: 0.9829 - val_loss: 0.1264 - val_accuracy: 0.9570\n",
            "Epoch 49/500\n",
            "186/186 [==============================] - 3s 16ms/step - loss: 0.0421 - accuracy: 0.9869 - val_loss: 0.1416 - val_accuracy: 0.9516\n",
            "Epoch 50/500\n",
            "186/186 [==============================] - 3s 15ms/step - loss: 0.0564 - accuracy: 0.9812 - val_loss: 0.1382 - val_accuracy: 0.9503\n",
            "Epoch 51/500\n",
            "186/186 [==============================] - 3s 15ms/step - loss: 0.0591 - accuracy: 0.9785 - val_loss: 0.1199 - val_accuracy: 0.9556\n",
            "Epoch 52/500\n",
            "186/186 [==============================] - 3s 14ms/step - loss: 0.0377 - accuracy: 0.9876 - val_loss: 0.1466 - val_accuracy: 0.9462\n",
            "Epoch 53/500\n",
            "186/186 [==============================] - 3s 14ms/step - loss: 0.0553 - accuracy: 0.9785 - val_loss: 0.1438 - val_accuracy: 0.9462\n",
            "Epoch 54/500\n",
            "186/186 [==============================] - 3s 16ms/step - loss: 0.0464 - accuracy: 0.9832 - val_loss: 0.1304 - val_accuracy: 0.9556\n",
            "Epoch 55/500\n",
            "186/186 [==============================] - 3s 15ms/step - loss: 0.0419 - accuracy: 0.9842 - val_loss: 0.1342 - val_accuracy: 0.9503\n",
            "Epoch 56/500\n",
            "186/186 [==============================] - 3s 15ms/step - loss: 0.0332 - accuracy: 0.9889 - val_loss: 0.1136 - val_accuracy: 0.9583\n",
            "Epoch 57/500\n",
            "186/186 [==============================] - 3s 14ms/step - loss: 0.0465 - accuracy: 0.9829 - val_loss: 0.1191 - val_accuracy: 0.9530\n",
            "Epoch 58/500\n",
            "186/186 [==============================] - 3s 14ms/step - loss: 0.0420 - accuracy: 0.9829 - val_loss: 0.1518 - val_accuracy: 0.9462\n",
            "Epoch 59/500\n",
            "186/186 [==============================] - 3s 15ms/step - loss: 0.0332 - accuracy: 0.9886 - val_loss: 0.1496 - val_accuracy: 0.9516\n",
            "Epoch 60/500\n",
            "186/186 [==============================] - 3s 16ms/step - loss: 0.0691 - accuracy: 0.9738 - val_loss: 0.1351 - val_accuracy: 0.9543\n",
            "Epoch 61/500\n",
            "186/186 [==============================] - 3s 15ms/step - loss: 0.0390 - accuracy: 0.9889 - val_loss: 0.1365 - val_accuracy: 0.9530\n",
            "Epoch 62/500\n",
            "186/186 [==============================] - 3s 16ms/step - loss: 0.0439 - accuracy: 0.9845 - val_loss: 0.1187 - val_accuracy: 0.9583\n",
            "Epoch 63/500\n",
            "186/186 [==============================] - 3s 16ms/step - loss: 0.0333 - accuracy: 0.9879 - val_loss: 0.1329 - val_accuracy: 0.9583\n",
            "Epoch 64/500\n",
            "186/186 [==============================] - 3s 16ms/step - loss: 0.0286 - accuracy: 0.9889 - val_loss: 0.1109 - val_accuracy: 0.9637\n",
            "Epoch 65/500\n",
            "186/186 [==============================] - 3s 15ms/step - loss: 0.0523 - accuracy: 0.9829 - val_loss: 0.1029 - val_accuracy: 0.9664\n",
            "Epoch 66/500\n",
            "186/186 [==============================] - 3s 15ms/step - loss: 0.0727 - accuracy: 0.9744 - val_loss: 0.1861 - val_accuracy: 0.9315\n",
            "Epoch 67/500\n",
            "186/186 [==============================] - 3s 15ms/step - loss: 0.0371 - accuracy: 0.9882 - val_loss: 0.1687 - val_accuracy: 0.9476\n",
            "Epoch 68/500\n",
            "186/186 [==============================] - 3s 15ms/step - loss: 0.0441 - accuracy: 0.9859 - val_loss: 0.1365 - val_accuracy: 0.9530\n",
            "Epoch 69/500\n",
            "186/186 [==============================] - 3s 15ms/step - loss: 0.0371 - accuracy: 0.9852 - val_loss: 0.1255 - val_accuracy: 0.9583\n",
            "Epoch 70/500\n",
            "186/186 [==============================] - 3s 16ms/step - loss: 0.0390 - accuracy: 0.9862 - val_loss: 0.1434 - val_accuracy: 0.9530\n",
            "Epoch 71/500\n",
            "186/186 [==============================] - 3s 16ms/step - loss: 0.0352 - accuracy: 0.9862 - val_loss: 0.1425 - val_accuracy: 0.9462\n",
            "Epoch 72/500\n",
            "186/186 [==============================] - 3s 14ms/step - loss: 0.0526 - accuracy: 0.9829 - val_loss: 0.1745 - val_accuracy: 0.9435\n",
            "Epoch 73/500\n",
            "186/186 [==============================] - 3s 14ms/step - loss: 0.0494 - accuracy: 0.9818 - val_loss: 0.1146 - val_accuracy: 0.9664\n",
            "Epoch 74/500\n",
            "186/186 [==============================] - 3s 15ms/step - loss: 0.0246 - accuracy: 0.9916 - val_loss: 0.1195 - val_accuracy: 0.9543\n",
            "Epoch 75/500\n",
            "186/186 [==============================] - 3s 14ms/step - loss: 0.0242 - accuracy: 0.9943 - val_loss: 0.1221 - val_accuracy: 0.9610\n",
            "Epoch 76/500\n",
            "186/186 [==============================] - 3s 16ms/step - loss: 0.0227 - accuracy: 0.9913 - val_loss: 0.1349 - val_accuracy: 0.9543\n",
            "Epoch 77/500\n",
            "186/186 [==============================] - 3s 15ms/step - loss: 0.0560 - accuracy: 0.9842 - val_loss: 0.3384 - val_accuracy: 0.9046\n",
            "Epoch 78/500\n",
            "186/186 [==============================] - 3s 15ms/step - loss: 0.0507 - accuracy: 0.9839 - val_loss: 0.1273 - val_accuracy: 0.9624\n",
            "Epoch 79/500\n",
            "186/186 [==============================] - 3s 16ms/step - loss: 0.0329 - accuracy: 0.9913 - val_loss: 0.1457 - val_accuracy: 0.9516\n",
            "Epoch 80/500\n",
            "186/186 [==============================] - 3s 15ms/step - loss: 0.0343 - accuracy: 0.9889 - val_loss: 0.1329 - val_accuracy: 0.9516\n",
            "Epoch 81/500\n",
            "186/186 [==============================] - 3s 17ms/step - loss: 0.0203 - accuracy: 0.9943 - val_loss: 0.1487 - val_accuracy: 0.9530\n",
            "Epoch 82/500\n",
            "186/186 [==============================] - 3s 17ms/step - loss: 0.0216 - accuracy: 0.9936 - val_loss: 0.1763 - val_accuracy: 0.9516\n",
            "Epoch 83/500\n",
            "186/186 [==============================] - 3s 16ms/step - loss: 0.0529 - accuracy: 0.9832 - val_loss: 0.1713 - val_accuracy: 0.9435\n",
            "Epoch 84/500\n",
            "186/186 [==============================] - 3s 17ms/step - loss: 0.0245 - accuracy: 0.9909 - val_loss: 0.1355 - val_accuracy: 0.9583\n",
            "Epoch 85/500\n",
            "186/186 [==============================] - 3s 15ms/step - loss: 0.0316 - accuracy: 0.9899 - val_loss: 0.1247 - val_accuracy: 0.9583\n",
            "Epoch 86/500\n",
            "186/186 [==============================] - 3s 16ms/step - loss: 0.0456 - accuracy: 0.9849 - val_loss: 0.1457 - val_accuracy: 0.9476\n",
            "Epoch 87/500\n",
            "186/186 [==============================] - 3s 15ms/step - loss: 0.0396 - accuracy: 0.9859 - val_loss: 0.1427 - val_accuracy: 0.9530\n",
            "Epoch 88/500\n",
            "186/186 [==============================] - 3s 14ms/step - loss: 0.0257 - accuracy: 0.9926 - val_loss: 0.1579 - val_accuracy: 0.9583\n",
            "Epoch 89/500\n",
            "186/186 [==============================] - 3s 16ms/step - loss: 0.0250 - accuracy: 0.9913 - val_loss: 0.1930 - val_accuracy: 0.9422\n",
            "Epoch 90/500\n",
            "186/186 [==============================] - 3s 15ms/step - loss: 0.0223 - accuracy: 0.9936 - val_loss: 0.1306 - val_accuracy: 0.9570\n",
            "Epoch 91/500\n",
            "186/186 [==============================] - 3s 16ms/step - loss: 0.0304 - accuracy: 0.9906 - val_loss: 0.1593 - val_accuracy: 0.9556\n",
            "Epoch 92/500\n",
            "186/186 [==============================] - 3s 16ms/step - loss: 0.0209 - accuracy: 0.9939 - val_loss: 0.1311 - val_accuracy: 0.9651\n",
            "Epoch 93/500\n",
            "186/186 [==============================] - 3s 14ms/step - loss: 0.0227 - accuracy: 0.9939 - val_loss: 0.1369 - val_accuracy: 0.9570\n",
            "Epoch 94/500\n",
            "186/186 [==============================] - 3s 15ms/step - loss: 0.0221 - accuracy: 0.9929 - val_loss: 0.1538 - val_accuracy: 0.9556\n",
            "Epoch 95/500\n",
            "186/186 [==============================] - 3s 14ms/step - loss: 0.0129 - accuracy: 0.9970 - val_loss: 0.1486 - val_accuracy: 0.9583\n"
          ]
        },
        {
          "output_type": "stream",
          "name": "stderr",
          "text": [
            "WARNING:absl:Found untraced functions such as gru_cell_4_layer_call_fn, gru_cell_4_layer_call_and_return_conditional_losses, gru_cell_5_layer_call_fn, gru_cell_5_layer_call_and_return_conditional_losses while saving (showing 4 of 4). These functions will not be directly callable after loading.\n"
          ]
        },
        {
          "output_type": "stream",
          "name": "stdout",
          "text": [
            "INFO:tensorflow:Assets written to: models/hitnet/assets\n"
          ]
        },
        {
          "output_type": "stream",
          "name": "stderr",
          "text": [
            "INFO:tensorflow:Assets written to: models/hitnet/assets\n",
            "WARNING:absl:<keras.layers.recurrent.GRUCell object at 0x7f275183c190> has the same name 'GRUCell' as a built-in Keras object. Consider renaming <class 'keras.layers.recurrent.GRUCell'> to avoid naming conflicts when loading with `tf.keras.models.load_model`. If renaming is not possible, pass the object in the `custom_objects` parameter of the load function.\n",
            "WARNING:absl:<keras.layers.recurrent.GRUCell object at 0x7f275116f190> has the same name 'GRUCell' as a built-in Keras object. Consider renaming <class 'keras.layers.recurrent.GRUCell'> to avoid naming conflicts when loading with `tf.keras.models.load_model`. If renaming is not possible, pass the object in the `custom_objects` parameter of the load function.\n"
          ]
        },
        {
          "output_type": "stream",
          "name": "stdout",
          "text": [
            "models/hitnet\n"
          ]
        }
      ]
    },
    {
      "cell_type": "markdown",
      "source": [
        "## HITNET PREDICT"
      ],
      "metadata": {
        "id": "ld_ZDhcb9zIz"
      }
    },
    {
      "cell_type": "code",
      "execution_count": null,
      "metadata": {
        "id": "X5P-0BJ4GYS9"
      },
      "outputs": [],
      "source": [
        "from hitnet_model import hitnet_training, hitnet_predict_shots\n",
        "import matplotlib.pyplot as plt\n",
        "import pandas as pd"
      ]
    },
    {
      "cell_type": "code",
      "source": [
        "y_pred = hitnet_predict_shots(\"/content/bva/bva/data/match2_1_00_02_predict.csv\",\n",
        "                       \"/content/bva/bva/data/match2_1_00_02_details.csv\",\n",
        "                       \"/content/bva/bva/data/match2_1_00_02_players.csv\",\n",
        "                       \"/content/bva/bva/models/hitnet\")"
      ],
      "metadata": {
        "id": "uOP0b1dhEmMc"
      },
      "execution_count": null,
      "outputs": []
    },
    {
      "cell_type": "code",
      "source": [
        "df = pd.DataFrame(y_pred, columns=[\"0\", \"1\"])\n",
        "df.index.name = \"index\"\n",
        "df"
      ],
      "metadata": {
        "colab": {
          "base_uri": "https://localhost:8080/",
          "height": 455
        },
        "id": "3-LxGR4jNuDz",
        "outputId": "a2108567-45c9-432f-df00-5df430c02264"
      },
      "execution_count": null,
      "outputs": [
        {
          "output_type": "execute_result",
          "data": {
            "text/plain": [
              "              0         1\n",
              "index                    \n",
              "0      0.871630  0.128370\n",
              "1      0.000008  0.999992\n",
              "2      0.000003  0.999997\n",
              "3      0.000005  0.999995\n",
              "4      0.000017  0.999983\n",
              "...         ...       ...\n",
              "592    0.999548  0.000452\n",
              "593    0.999545  0.000455\n",
              "594    0.999543  0.000457\n",
              "595    0.999540  0.000460\n",
              "596    0.999534  0.000466\n",
              "\n",
              "[597 rows x 2 columns]"
            ],
            "text/html": [
              "\n",
              "  <div id=\"df-eba747ea-06b7-481c-86e8-dc99d628f1ff\">\n",
              "    <div class=\"colab-df-container\">\n",
              "      <div>\n",
              "<style scoped>\n",
              "    .dataframe tbody tr th:only-of-type {\n",
              "        vertical-align: middle;\n",
              "    }\n",
              "\n",
              "    .dataframe tbody tr th {\n",
              "        vertical-align: top;\n",
              "    }\n",
              "\n",
              "    .dataframe thead th {\n",
              "        text-align: right;\n",
              "    }\n",
              "</style>\n",
              "<table border=\"1\" class=\"dataframe\">\n",
              "  <thead>\n",
              "    <tr style=\"text-align: right;\">\n",
              "      <th></th>\n",
              "      <th>0</th>\n",
              "      <th>1</th>\n",
              "    </tr>\n",
              "    <tr>\n",
              "      <th>index</th>\n",
              "      <th></th>\n",
              "      <th></th>\n",
              "    </tr>\n",
              "  </thead>\n",
              "  <tbody>\n",
              "    <tr>\n",
              "      <th>0</th>\n",
              "      <td>0.871630</td>\n",
              "      <td>0.128370</td>\n",
              "    </tr>\n",
              "    <tr>\n",
              "      <th>1</th>\n",
              "      <td>0.000008</td>\n",
              "      <td>0.999992</td>\n",
              "    </tr>\n",
              "    <tr>\n",
              "      <th>2</th>\n",
              "      <td>0.000003</td>\n",
              "      <td>0.999997</td>\n",
              "    </tr>\n",
              "    <tr>\n",
              "      <th>3</th>\n",
              "      <td>0.000005</td>\n",
              "      <td>0.999995</td>\n",
              "    </tr>\n",
              "    <tr>\n",
              "      <th>4</th>\n",
              "      <td>0.000017</td>\n",
              "      <td>0.999983</td>\n",
              "    </tr>\n",
              "    <tr>\n",
              "      <th>...</th>\n",
              "      <td>...</td>\n",
              "      <td>...</td>\n",
              "    </tr>\n",
              "    <tr>\n",
              "      <th>592</th>\n",
              "      <td>0.999548</td>\n",
              "      <td>0.000452</td>\n",
              "    </tr>\n",
              "    <tr>\n",
              "      <th>593</th>\n",
              "      <td>0.999545</td>\n",
              "      <td>0.000455</td>\n",
              "    </tr>\n",
              "    <tr>\n",
              "      <th>594</th>\n",
              "      <td>0.999543</td>\n",
              "      <td>0.000457</td>\n",
              "    </tr>\n",
              "    <tr>\n",
              "      <th>595</th>\n",
              "      <td>0.999540</td>\n",
              "      <td>0.000460</td>\n",
              "    </tr>\n",
              "    <tr>\n",
              "      <th>596</th>\n",
              "      <td>0.999534</td>\n",
              "      <td>0.000466</td>\n",
              "    </tr>\n",
              "  </tbody>\n",
              "</table>\n",
              "<p>597 rows × 2 columns</p>\n",
              "</div>\n",
              "      <button class=\"colab-df-convert\" onclick=\"convertToInteractive('df-eba747ea-06b7-481c-86e8-dc99d628f1ff')\"\n",
              "              title=\"Convert this dataframe to an interactive table.\"\n",
              "              style=\"display:none;\">\n",
              "        \n",
              "  <svg xmlns=\"http://www.w3.org/2000/svg\" height=\"24px\"viewBox=\"0 0 24 24\"\n",
              "       width=\"24px\">\n",
              "    <path d=\"M0 0h24v24H0V0z\" fill=\"none\"/>\n",
              "    <path d=\"M18.56 5.44l.94 2.06.94-2.06 2.06-.94-2.06-.94-.94-2.06-.94 2.06-2.06.94zm-11 1L8.5 8.5l.94-2.06 2.06-.94-2.06-.94L8.5 2.5l-.94 2.06-2.06.94zm10 10l.94 2.06.94-2.06 2.06-.94-2.06-.94-.94-2.06-.94 2.06-2.06.94z\"/><path d=\"M17.41 7.96l-1.37-1.37c-.4-.4-.92-.59-1.43-.59-.52 0-1.04.2-1.43.59L10.3 9.45l-7.72 7.72c-.78.78-.78 2.05 0 2.83L4 21.41c.39.39.9.59 1.41.59.51 0 1.02-.2 1.41-.59l7.78-7.78 2.81-2.81c.8-.78.8-2.07 0-2.86zM5.41 20L4 18.59l7.72-7.72 1.47 1.35L5.41 20z\"/>\n",
              "  </svg>\n",
              "      </button>\n",
              "      \n",
              "  <style>\n",
              "    .colab-df-container {\n",
              "      display:flex;\n",
              "      flex-wrap:wrap;\n",
              "      gap: 12px;\n",
              "    }\n",
              "\n",
              "    .colab-df-convert {\n",
              "      background-color: #E8F0FE;\n",
              "      border: none;\n",
              "      border-radius: 50%;\n",
              "      cursor: pointer;\n",
              "      display: none;\n",
              "      fill: #1967D2;\n",
              "      height: 32px;\n",
              "      padding: 0 0 0 0;\n",
              "      width: 32px;\n",
              "    }\n",
              "\n",
              "    .colab-df-convert:hover {\n",
              "      background-color: #E2EBFA;\n",
              "      box-shadow: 0px 1px 2px rgba(60, 64, 67, 0.3), 0px 1px 3px 1px rgba(60, 64, 67, 0.15);\n",
              "      fill: #174EA6;\n",
              "    }\n",
              "\n",
              "    [theme=dark] .colab-df-convert {\n",
              "      background-color: #3B4455;\n",
              "      fill: #D2E3FC;\n",
              "    }\n",
              "\n",
              "    [theme=dark] .colab-df-convert:hover {\n",
              "      background-color: #434B5C;\n",
              "      box-shadow: 0px 1px 3px 1px rgba(0, 0, 0, 0.15);\n",
              "      filter: drop-shadow(0px 1px 2px rgba(0, 0, 0, 0.3));\n",
              "      fill: #FFFFFF;\n",
              "    }\n",
              "  </style>\n",
              "\n",
              "      <script>\n",
              "        const buttonEl =\n",
              "          document.querySelector('#df-eba747ea-06b7-481c-86e8-dc99d628f1ff button.colab-df-convert');\n",
              "        buttonEl.style.display =\n",
              "          google.colab.kernel.accessAllowed ? 'block' : 'none';\n",
              "\n",
              "        async function convertToInteractive(key) {\n",
              "          const element = document.querySelector('#df-eba747ea-06b7-481c-86e8-dc99d628f1ff');\n",
              "          const dataTable =\n",
              "            await google.colab.kernel.invokeFunction('convertToInteractive',\n",
              "                                                     [key], {});\n",
              "          if (!dataTable) return;\n",
              "\n",
              "          const docLinkHtml = 'Like what you see? Visit the ' +\n",
              "            '<a target=\"_blank\" href=https://colab.research.google.com/notebooks/data_table.ipynb>data table notebook</a>'\n",
              "            + ' to learn more about interactive tables.';\n",
              "          element.innerHTML = '';\n",
              "          dataTable['output_type'] = 'display_data';\n",
              "          await google.colab.output.renderOutput(dataTable, element);\n",
              "          const docLink = document.createElement('div');\n",
              "          docLink.innerHTML = docLinkHtml;\n",
              "          element.appendChild(docLink);\n",
              "        }\n",
              "      </script>\n",
              "    </div>\n",
              "  </div>\n",
              "  "
            ]
          },
          "metadata": {},
          "execution_count": 41
        }
      ]
    },
    {
      "cell_type": "code",
      "source": [
        "df.to_csv(\"/content/bva/bva/data/hitnet_match2_1_00_02_predict.csv\")"
      ],
      "metadata": {
        "id": "6Pf97D1_JKLW"
      },
      "execution_count": null,
      "outputs": []
    },
    {
      "cell_type": "code",
      "source": [
        "from analyze_predicts import find_final_predict_from_hitnet"
      ],
      "metadata": {
        "id": "kuxeEZE0I3E9"
      },
      "execution_count": null,
      "outputs": []
    },
    {
      "cell_type": "code",
      "source": [
        "find_final_predict_from_hitnet(\"/content/bva/bva/data/hitnet_match2_1_00_02_predict.csv\", 0.75)"
      ],
      "metadata": {
        "colab": {
          "base_uri": "https://localhost:8080/",
          "height": 424
        },
        "id": "I4NPxtRWU-Ys",
        "outputId": "d6dc50b0-2c5f-4858-fb56-83551e30d07f"
      },
      "execution_count": null,
      "outputs": [
        {
          "output_type": "execute_result",
          "data": {
            "text/plain": [
              "     frame  hit\n",
              "0        0    0\n",
              "1        1    0\n",
              "2        2    0\n",
              "3        3    0\n",
              "4        4    0\n",
              "..     ...  ...\n",
              "592    592    0\n",
              "593    593    0\n",
              "594    594    0\n",
              "595    595    0\n",
              "596    596    0\n",
              "\n",
              "[597 rows x 2 columns]"
            ],
            "text/html": [
              "\n",
              "  <div id=\"df-c6ef8550-1944-4dcf-ad89-5669a3d9d771\">\n",
              "    <div class=\"colab-df-container\">\n",
              "      <div>\n",
              "<style scoped>\n",
              "    .dataframe tbody tr th:only-of-type {\n",
              "        vertical-align: middle;\n",
              "    }\n",
              "\n",
              "    .dataframe tbody tr th {\n",
              "        vertical-align: top;\n",
              "    }\n",
              "\n",
              "    .dataframe thead th {\n",
              "        text-align: right;\n",
              "    }\n",
              "</style>\n",
              "<table border=\"1\" class=\"dataframe\">\n",
              "  <thead>\n",
              "    <tr style=\"text-align: right;\">\n",
              "      <th></th>\n",
              "      <th>frame</th>\n",
              "      <th>hit</th>\n",
              "    </tr>\n",
              "  </thead>\n",
              "  <tbody>\n",
              "    <tr>\n",
              "      <th>0</th>\n",
              "      <td>0</td>\n",
              "      <td>0</td>\n",
              "    </tr>\n",
              "    <tr>\n",
              "      <th>1</th>\n",
              "      <td>1</td>\n",
              "      <td>0</td>\n",
              "    </tr>\n",
              "    <tr>\n",
              "      <th>2</th>\n",
              "      <td>2</td>\n",
              "      <td>0</td>\n",
              "    </tr>\n",
              "    <tr>\n",
              "      <th>3</th>\n",
              "      <td>3</td>\n",
              "      <td>0</td>\n",
              "    </tr>\n",
              "    <tr>\n",
              "      <th>4</th>\n",
              "      <td>4</td>\n",
              "      <td>0</td>\n",
              "    </tr>\n",
              "    <tr>\n",
              "      <th>...</th>\n",
              "      <td>...</td>\n",
              "      <td>...</td>\n",
              "    </tr>\n",
              "    <tr>\n",
              "      <th>592</th>\n",
              "      <td>592</td>\n",
              "      <td>0</td>\n",
              "    </tr>\n",
              "    <tr>\n",
              "      <th>593</th>\n",
              "      <td>593</td>\n",
              "      <td>0</td>\n",
              "    </tr>\n",
              "    <tr>\n",
              "      <th>594</th>\n",
              "      <td>594</td>\n",
              "      <td>0</td>\n",
              "    </tr>\n",
              "    <tr>\n",
              "      <th>595</th>\n",
              "      <td>595</td>\n",
              "      <td>0</td>\n",
              "    </tr>\n",
              "    <tr>\n",
              "      <th>596</th>\n",
              "      <td>596</td>\n",
              "      <td>0</td>\n",
              "    </tr>\n",
              "  </tbody>\n",
              "</table>\n",
              "<p>597 rows × 2 columns</p>\n",
              "</div>\n",
              "      <button class=\"colab-df-convert\" onclick=\"convertToInteractive('df-c6ef8550-1944-4dcf-ad89-5669a3d9d771')\"\n",
              "              title=\"Convert this dataframe to an interactive table.\"\n",
              "              style=\"display:none;\">\n",
              "        \n",
              "  <svg xmlns=\"http://www.w3.org/2000/svg\" height=\"24px\"viewBox=\"0 0 24 24\"\n",
              "       width=\"24px\">\n",
              "    <path d=\"M0 0h24v24H0V0z\" fill=\"none\"/>\n",
              "    <path d=\"M18.56 5.44l.94 2.06.94-2.06 2.06-.94-2.06-.94-.94-2.06-.94 2.06-2.06.94zm-11 1L8.5 8.5l.94-2.06 2.06-.94-2.06-.94L8.5 2.5l-.94 2.06-2.06.94zm10 10l.94 2.06.94-2.06 2.06-.94-2.06-.94-.94-2.06-.94 2.06-2.06.94z\"/><path d=\"M17.41 7.96l-1.37-1.37c-.4-.4-.92-.59-1.43-.59-.52 0-1.04.2-1.43.59L10.3 9.45l-7.72 7.72c-.78.78-.78 2.05 0 2.83L4 21.41c.39.39.9.59 1.41.59.51 0 1.02-.2 1.41-.59l7.78-7.78 2.81-2.81c.8-.78.8-2.07 0-2.86zM5.41 20L4 18.59l7.72-7.72 1.47 1.35L5.41 20z\"/>\n",
              "  </svg>\n",
              "      </button>\n",
              "      \n",
              "  <style>\n",
              "    .colab-df-container {\n",
              "      display:flex;\n",
              "      flex-wrap:wrap;\n",
              "      gap: 12px;\n",
              "    }\n",
              "\n",
              "    .colab-df-convert {\n",
              "      background-color: #E8F0FE;\n",
              "      border: none;\n",
              "      border-radius: 50%;\n",
              "      cursor: pointer;\n",
              "      display: none;\n",
              "      fill: #1967D2;\n",
              "      height: 32px;\n",
              "      padding: 0 0 0 0;\n",
              "      width: 32px;\n",
              "    }\n",
              "\n",
              "    .colab-df-convert:hover {\n",
              "      background-color: #E2EBFA;\n",
              "      box-shadow: 0px 1px 2px rgba(60, 64, 67, 0.3), 0px 1px 3px 1px rgba(60, 64, 67, 0.15);\n",
              "      fill: #174EA6;\n",
              "    }\n",
              "\n",
              "    [theme=dark] .colab-df-convert {\n",
              "      background-color: #3B4455;\n",
              "      fill: #D2E3FC;\n",
              "    }\n",
              "\n",
              "    [theme=dark] .colab-df-convert:hover {\n",
              "      background-color: #434B5C;\n",
              "      box-shadow: 0px 1px 3px 1px rgba(0, 0, 0, 0.15);\n",
              "      filter: drop-shadow(0px 1px 2px rgba(0, 0, 0, 0.3));\n",
              "      fill: #FFFFFF;\n",
              "    }\n",
              "  </style>\n",
              "\n",
              "      <script>\n",
              "        const buttonEl =\n",
              "          document.querySelector('#df-c6ef8550-1944-4dcf-ad89-5669a3d9d771 button.colab-df-convert');\n",
              "        buttonEl.style.display =\n",
              "          google.colab.kernel.accessAllowed ? 'block' : 'none';\n",
              "\n",
              "        async function convertToInteractive(key) {\n",
              "          const element = document.querySelector('#df-c6ef8550-1944-4dcf-ad89-5669a3d9d771');\n",
              "          const dataTable =\n",
              "            await google.colab.kernel.invokeFunction('convertToInteractive',\n",
              "                                                     [key], {});\n",
              "          if (!dataTable) return;\n",
              "\n",
              "          const docLinkHtml = 'Like what you see? Visit the ' +\n",
              "            '<a target=\"_blank\" href=https://colab.research.google.com/notebooks/data_table.ipynb>data table notebook</a>'\n",
              "            + ' to learn more about interactive tables.';\n",
              "          element.innerHTML = '';\n",
              "          dataTable['output_type'] = 'display_data';\n",
              "          await google.colab.output.renderOutput(dataTable, element);\n",
              "          const docLink = document.createElement('div');\n",
              "          docLink.innerHTML = docLinkHtml;\n",
              "          element.appendChild(docLink);\n",
              "        }\n",
              "      </script>\n",
              "    </div>\n",
              "  </div>\n",
              "  "
            ]
          },
          "metadata": {},
          "execution_count": 43
        }
      ]
    },
    {
      "cell_type": "markdown",
      "source": [
        "## FITTING"
      ],
      "metadata": {
        "id": "Fc4PlQEfNq1G"
      }
    },
    {
      "cell_type": "code",
      "source": [
        "plt.plot(history.history[\"loss\"], label=\"Train\")\n",
        "plt.plot(history.history[\"val_loss\"], label=\"Val\")\n",
        "plt.legend();"
      ],
      "metadata": {
        "id": "JQDa8jTwlH3i",
        "colab": {
          "base_uri": "https://localhost:8080/",
          "height": 265
        },
        "outputId": "75f8e360-1329-4549-ab0e-a47c03070b71"
      },
      "execution_count": null,
      "outputs": [
        {
          "output_type": "display_data",
          "data": {
            "text/plain": [
              "<Figure size 432x288 with 1 Axes>"
            ],
            "image/png": "[encoded data removed]"
          },
          "metadata": {
            "needs_background": "light"
          }
        }
      ]
    },
    {
      "cell_type": "code",
      "source": [
        "plt.plot(history.history[\"accuracy\"], label=\"Train\")\n",
        "plt.plot(history.history[\"val_accuracy\"], label=\"Val\")\n",
        "plt.legend();"
      ],
      "metadata": {
        "colab": {
          "base_uri": "https://localhost:8080/",
          "height": 265
        },
        "id": "dQQdwnIfJv-Z",
        "outputId": "fbc3c647-4b32-4714-c7bc-ff3433e0535f"
      },
      "execution_count": null,
      "outputs": [
        {
          "output_type": "display_data",
          "data": {
            "text/plain": [
              "<Figure size 432x288 with 1 Axes>"
            ],
            "image/png": "[encoded data removed]"
          },
          "metadata": {
            "needs_background": "light"
          }
        }
      ]
    },
    {
      "cell_type": "code",
      "source": [
        ""
      ],
      "metadata": {
        "id": "fFhA_ZiGkCwf"
      },
      "execution_count": null,
      "outputs": []
    }
  ]
}