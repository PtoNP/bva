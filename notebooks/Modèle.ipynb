{
  "nbformat": 4,
  "nbformat_minor": 0,
  "metadata": {
    "colab": {
      "name": "Modèle.ipynb",
      "provenance": [],
      "collapsed_sections": []
    },
    "kernelspec": {
      "name": "python3",
      "display_name": "Python 3"
    },
    "language_info": {
      "name": "python"
    },
    "accelerator": "GPU"
  },
  "cells": [
    {
      "cell_type": "markdown",
      "source": [
        "## GET DATA"
      ],
      "metadata": {
        "id": "ld_ZDhcb9zIz"
      }
    },
    {
      "cell_type": "code",
      "source": [
        "%load_ext autoreload\n",
        "%autoreload 2"
      ],
      "metadata": {
        "id": "SAsU485kND5_"
      },
      "execution_count": 1,
      "outputs": []
    },
    {
      "cell_type": "code",
      "source": [
        "! git clone https://github.com/fransoa2607/bva.git"
      ],
      "metadata": {
        "colab": {
          "base_uri": "https://localhost:8080/"
        },
        "id": "aJQY--uqSzgY",
        "outputId": "a5da5a8e-4821-4386-a030-73a9003945ec"
      },
      "execution_count": 2,
      "outputs": [
        {
          "output_type": "stream",
          "name": "stdout",
          "text": [
            "Cloning into 'bva'...\n",
            "remote: Enumerating objects: 108, done.\u001b[K\n",
            "remote: Counting objects: 100% (108/108), done.\u001b[K\n",
            "remote: Compressing objects: 100% (63/63), done.\u001b[K\n",
            "remote: Total 108 (delta 46), reused 95 (delta 33), pack-reused 0\u001b[K\n",
            "Receiving objects: 100% (108/108), 7.29 MiB | 7.85 MiB/s, done.\n",
            "Resolving deltas: 100% (46/46), done.\n"
          ]
        }
      ]
    },
    {
      "cell_type": "code",
      "source": [
        "%env PYTHONPATH=\"$/env/python:/content/bva\"\n",
        "! echo $PYTHONPATH"
      ],
      "metadata": {
        "colab": {
          "base_uri": "https://localhost:8080/"
        },
        "id": "W3gkwIPbX6Wu",
        "outputId": "eafb5ccf-582c-4f75-f03f-5760629c36ac"
      },
      "execution_count": 3,
      "outputs": [
        {
          "output_type": "stream",
          "name": "stdout",
          "text": [
            "env: PYTHONPATH=\"$/env/python:/content/bva\"\n",
            "\"$/env/python:/content/bva\"\n"
          ]
        }
      ]
    },
    {
      "cell_type": "code",
      "source": [
        "cd ./bva/bva/"
      ],
      "metadata": {
        "colab": {
          "base_uri": "https://localhost:8080/"
        },
        "id": "07_yi6KyWiJS",
        "outputId": "6a102741-f678-4ecc-87be-dcd919509385"
      },
      "execution_count": 4,
      "outputs": [
        {
          "output_type": "stream",
          "name": "stdout",
          "text": [
            "/content/bva/bva\n"
          ]
        }
      ]
    },
    {
      "cell_type": "code",
      "execution_count": 5,
      "metadata": {
        "id": "X5P-0BJ4GYS9"
      },
      "outputs": [],
      "source": [
        "from preprocess import get_all_videos_sequences_by_window\n",
        "import pandas as pd\n",
        "import numpy as np\n",
        "import matplotlib.pyplot as plt\n",
        "from tensorflow.keras.models import Sequential\n",
        "from tensorflow.keras import layers\n",
        "from tensorflow.keras.utils import to_categorical\n",
        "from sklearn.preprocessing import LabelEncoder\n",
        "from sklearn.model_selection import train_test_split\n",
        "from tensorflow.keras.callbacks import EarlyStopping\n",
        "from tensorflow.keras.optimizers import RMSprop"
      ]
    },
    {
      "cell_type": "code",
      "source": [
        "video_url = \"/content/bva/bva/data/video_details.csv\"\n",
        "clean_df = \"/content/bva/bva/data/clean_dataset.csv\""
      ],
      "metadata": {
        "id": "ComzFe1_Y9a8"
      },
      "execution_count": 6,
      "outputs": []
    },
    {
      "cell_type": "code",
      "source": [
        "df_shots, all_videos_sequences, all_videos_targets, test_dict = get_all_videos_sequences_by_window(video_url, clean_df, 6, 5)"
      ],
      "metadata": {
        "id": "J11nFD_mH5f-"
      },
      "execution_count": 11,
      "outputs": []
    },
    {
      "cell_type": "code",
      "source": [
        "# Features and target\n",
        "X_all = all_videos_sequences\n",
        "y_all = all_videos_targets\n",
        "print(X_all.shape)\n",
        "print(y_all.shape)"
      ],
      "metadata": {
        "colab": {
          "base_uri": "https://localhost:8080/"
        },
        "id": "aCxes8i6cbm7",
        "outputId": "dad31922-513f-4684-8a67-65bdb1920c85"
      },
      "execution_count": 12,
      "outputs": [
        {
          "output_type": "stream",
          "name": "stdout",
          "text": [
            "(43645, 5, 11)\n",
            "(43645,)\n"
          ]
        }
      ]
    },
    {
      "cell_type": "code",
      "source": [
        "# encoding categorical target\n",
        "label_encoder = LabelEncoder()\n",
        "y_all_enc = label_encoder.fit_transform(y_all)\n",
        "y_cat = to_categorical(y_all_enc)"
      ],
      "metadata": {
        "id": "ZSRixVufLaK1"
      },
      "execution_count": 17,
      "outputs": []
    },
    {
      "cell_type": "code",
      "source": [
        "y_all_enc[:30]"
      ],
      "metadata": {
        "colab": {
          "base_uri": "https://localhost:8080/"
        },
        "id": "hh13J26WEAd6",
        "outputId": "e7d9b68c-dc9e-4946-e7ce-72cc96102214"
      },
      "execution_count": 19,
      "outputs": [
        {
          "output_type": "execute_result",
          "data": {
            "text/plain": [
              "array([11, 11, 11, 11, 11, 11, 11, 11, 11, 11, 11, 11, 11, 11, 11, 11, 11,\n",
              "       11, 11, 11, 13, 11, 11, 11, 11, 11, 11, 11, 11, 11])"
            ]
          },
          "metadata": {},
          "execution_count": 19
        }
      ]
    },
    {
      "cell_type": "code",
      "source": [
        "y_cat.shape"
      ],
      "metadata": {
        "colab": {
          "base_uri": "https://localhost:8080/"
        },
        "id": "vwpUGR-kBOZ9",
        "outputId": "78a38a59-8b7e-4920-e9cb-50d95bfb93e3"
      },
      "execution_count": 26,
      "outputs": [
        {
          "output_type": "execute_result",
          "data": {
            "text/plain": [
              "(43645, 14)"
            ]
          },
          "metadata": {},
          "execution_count": 26
        }
      ]
    },
    {
      "cell_type": "code",
      "source": [
        "#train test split\n",
        "X_train, X_val, y_train, y_val = train_test_split(X_all, y_cat, test_size=0.2)"
      ],
      "metadata": {
        "id": "ZzNHoxUvLiyF"
      },
      "execution_count": 27,
      "outputs": []
    },
    {
      "cell_type": "code",
      "source": [
        "X_train[0]"
      ],
      "metadata": {
        "colab": {
          "base_uri": "https://localhost:8080/"
        },
        "id": "0n57RTkMRQNV",
        "outputId": "7946d93b-4f3e-46cd-9848-594507a0691a"
      },
      "execution_count": 51,
      "outputs": [
        {
          "output_type": "execute_result",
          "data": {
            "text/plain": [
              "array([[1.        , 0.4734375 , 0.48472222, 0.33046875, 0.51111111,\n",
              "        0.6890625 , 0.51527778, 0.77265625, 0.94444444, 0.17265625,\n",
              "        0.93055556],\n",
              "       [1.        , 0.4734375 , 0.48333333, 0.33046875, 0.51111111,\n",
              "        0.6890625 , 0.51527778, 0.77265625, 0.94444444, 0.17265625,\n",
              "        0.93055556],\n",
              "       [1.        , 0.475     , 0.48333333, 0.33046875, 0.51111111,\n",
              "        0.6890625 , 0.51527778, 0.77265625, 0.94444444, 0.17265625,\n",
              "        0.93055556],\n",
              "       [1.        , 0.47421875, 0.48055556, 0.33046875, 0.51111111,\n",
              "        0.6890625 , 0.51527778, 0.77265625, 0.94444444, 0.17265625,\n",
              "        0.93055556],\n",
              "       [1.        , 0.475     , 0.48055556, 0.33046875, 0.51111111,\n",
              "        0.6890625 , 0.51527778, 0.77265625, 0.94444444, 0.17265625,\n",
              "        0.93055556]])"
            ]
          },
          "metadata": {},
          "execution_count": 51
        }
      ]
    },
    {
      "cell_type": "code",
      "source": [
        "# Modèle de classification\n",
        "def init_model():\n",
        "  model = Sequential()\n",
        "  # model.add(layers.Masking(mask_value=-1000, input_shape=(50,2))) => no padding\n",
        "  model.add(layers.GRU(units=64, activation='tanh', return_sequences=True))\n",
        "  model.add(layers.GRU(units=32, activation='tanh', return_sequences=True))\n",
        "  model.add(layers.GRU(units=24, activation='tanh', return_sequences=False))\n",
        "  model.add(layers.Dense(50, activation='relu'))\n",
        "  model.add(layers.Dropout(rate=0.2))\n",
        "  model.add(layers.Dense(30, activation='relu'))\n",
        "  model.add(layers.Dropout(rate=0.2))\n",
        "  model.add(layers.Dense(14, activation='softmax'))\n",
        "  # Compilation\n",
        "  model.compile(loss='categorical_crossentropy',\n",
        "                optimizer=RMSprop(learning_rate=0.001),\n",
        "                metrics=[\"accuracy\"])\n",
        "  return model"
      ],
      "metadata": {
        "id": "XQMbRGG6Lncp"
      },
      "execution_count": 30,
      "outputs": []
    },
    {
      "cell_type": "code",
      "source": [
        "model = init_model()\n",
        "model.build(X_train.shape)\n",
        "model.summary()"
      ],
      "metadata": {
        "id": "llA786ogjqpN",
        "colab": {
          "base_uri": "https://localhost:8080/"
        },
        "outputId": "0b35c594-a201-4c4c-8c07-eda9a04fa8f6"
      },
      "execution_count": 31,
      "outputs": [
        {
          "output_type": "stream",
          "name": "stdout",
          "text": [
            "Model: \"sequential\"\n",
            "_________________________________________________________________\n",
            " Layer (type)                Output Shape              Param #   \n",
            "=================================================================\n",
            " gru (GRU)                   (34916, 5, 64)            14784     \n",
            "                                                                 \n",
            " gru_1 (GRU)                 (34916, 5, 32)            9408      \n",
            "                                                                 \n",
            " gru_2 (GRU)                 (34916, 24)               4176      \n",
            "                                                                 \n",
            " dense (Dense)               (34916, 50)               1250      \n",
            "                                                                 \n",
            " dropout (Dropout)           (34916, 50)               0         \n",
            "                                                                 \n",
            " dense_1 (Dense)             (34916, 30)               1530      \n",
            "                                                                 \n",
            " dropout_1 (Dropout)         (34916, 30)               0         \n",
            "                                                                 \n",
            " dense_2 (Dense)             (34916, 14)               434       \n",
            "                                                                 \n",
            "=================================================================\n",
            "Total params: 31,582\n",
            "Trainable params: 31,582\n",
            "Non-trainable params: 0\n",
            "_________________________________________________________________\n"
          ]
        }
      ]
    },
    {
      "cell_type": "code",
      "source": [
        "# Fitting\n",
        "es = EarlyStopping(patience=30, restore_best_weights=True)\n",
        "history = model.fit(X_train, y_train, validation_data=(X_val, y_val), epochs=500, batch_size=16, callbacks=[es])"
      ],
      "metadata": {
        "id": "oGrv5lsMK6dS"
      },
      "execution_count": null,
      "outputs": []
    },
    {
      "cell_type": "code",
      "source": [
        "history.history"
      ],
      "metadata": {
        "id": "Ghn0GpsKlK8S"
      },
      "execution_count": null,
      "outputs": []
    },
    {
      "cell_type": "code",
      "source": [
        "plt.plot(history.history[\"loss\"], label=\"Train\")\n",
        "plt.plot(history.history[\"val_loss\"], label=\"Val\")\n",
        "plt.legend();"
      ],
      "metadata": {
        "id": "JQDa8jTwlH3i",
        "colab": {
          "base_uri": "https://localhost:8080/",
          "height": 265
        },
        "outputId": "8b80f8ea-4d49-48e8-8dd3-314eac3a793a"
      },
      "execution_count": 35,
      "outputs": [
        {
          "output_type": "display_data",
          "data": {
            "text/plain": [
              "<Figure size 432x288 with 1 Axes>"
            ],
            "image/png": "[encoded data removed]"
          },
          "metadata": {
            "needs_background": "light"
          }
        }
      ]
    },
    {
      "cell_type": "code",
      "source": [
        "plt.plot(history.history[\"accuracy\"], label=\"Train\")\n",
        "plt.plot(history.history[\"val_accuracy\"], label=\"Val\")\n",
        "plt.legend();"
      ],
      "metadata": {
        "colab": {
          "base_uri": "https://localhost:8080/",
          "height": 268
        },
        "id": "dQQdwnIfJv-Z",
        "outputId": "a2c6c2c3-467e-4a38-bb14-57b07538847a"
      },
      "execution_count": 36,
      "outputs": [
        {
          "output_type": "display_data",
          "data": {
            "text/plain": [
              "<Figure size 432x288 with 1 Axes>"
            ],
            "image/png": "[encoded data removed]"
          },
          "metadata": {
            "needs_background": "light"
          }
        }
      ]
    },
    {
      "cell_type": "markdown",
      "source": [
        "## TESTS"
      ],
      "metadata": {
        "id": "FqkkI5yN-Yp7"
      }
    },
    {
      "cell_type": "code",
      "source": [
        "test_dict.keys()"
      ],
      "metadata": {
        "colab": {
          "base_uri": "https://localhost:8080/"
        },
        "id": "TPIqH3cu-bwq",
        "outputId": "47eae6f2-cf94-4c18-c5a8-2f6e1260b3fb"
      },
      "execution_count": 37,
      "outputs": [
        {
          "output_type": "execute_result",
          "data": {
            "text/plain": [
              "dict_keys(['match9/rally_video/1_02_03.mp4', 'match9/rally_video/1_04_05.mp4', 'match9/rally_video/1_05_06.mp4', 'match9/rally_video/1_07_10.mp4', 'match9/rally_video/1_07_11.mp4'])"
            ]
          },
          "metadata": {},
          "execution_count": 37
        }
      ]
    },
    {
      "cell_type": "code",
      "source": [
        "X_test = test_dict['match9/rally_video/1_02_03.mp4'][0]"
      ],
      "metadata": {
        "id": "BE5VY0Oc-cOJ"
      },
      "execution_count": 38,
      "outputs": []
    },
    {
      "cell_type": "code",
      "source": [
        "y_test = test_dict['match9/rally_video/1_02_03.mp4'][1]\n",
        "y_test_cat = to_categorical(label_encoder.transform(y_test))"
      ],
      "metadata": {
        "id": "idDj7FIDRxCJ"
      },
      "execution_count": 39,
      "outputs": []
    },
    {
      "cell_type": "code",
      "source": [
        "X_test.shape"
      ],
      "metadata": {
        "colab": {
          "base_uri": "https://localhost:8080/"
        },
        "id": "XR0b31NFSV3e",
        "outputId": "9809a94d-af8f-4dc2-8ed7-8240f3a82016"
      },
      "execution_count": 40,
      "outputs": [
        {
          "output_type": "execute_result",
          "data": {
            "text/plain": [
              "(298, 5, 11)"
            ]
          },
          "metadata": {},
          "execution_count": 40
        }
      ]
    },
    {
      "cell_type": "code",
      "source": [
        "y_test_cat.shape"
      ],
      "metadata": {
        "colab": {
          "base_uri": "https://localhost:8080/"
        },
        "id": "GOzW-Y9jSXq7",
        "outputId": "3c7673f5-3210-4cb8-e9f6-6d116d62b5cb"
      },
      "execution_count": 41,
      "outputs": [
        {
          "output_type": "execute_result",
          "data": {
            "text/plain": [
              "(298, 14)"
            ]
          },
          "metadata": {},
          "execution_count": 41
        }
      ]
    },
    {
      "cell_type": "code",
      "source": [
        "# Eval\n",
        "model.evaluate(X_test, y_test_cat)"
      ],
      "metadata": {
        "id": "lSbskfHAL16e",
        "colab": {
          "base_uri": "https://localhost:8080/"
        },
        "outputId": "0d217b25-3d83-479e-9968-088746eb5847"
      },
      "execution_count": 42,
      "outputs": [
        {
          "output_type": "stream",
          "name": "stdout",
          "text": [
            "10/10 [==============================] - 0s 4ms/step - loss: 0.2808 - accuracy: 0.9564\n"
          ]
        },
        {
          "output_type": "execute_result",
          "data": {
            "text/plain": [
              "[0.28080952167510986, 0.9563758373260498]"
            ]
          },
          "metadata": {},
          "execution_count": 42
        }
      ]
    },
    {
      "cell_type": "markdown",
      "source": [
        "## Predict"
      ],
      "metadata": {
        "id": "_jGW1k3xUGZe"
      }
    },
    {
      "cell_type": "code",
      "source": [
        "X_to_pred = test_dict['match9/rally_video/1_02_03.mp4'][0]"
      ],
      "metadata": {
        "id": "ReiE9Y7KUMdt"
      },
      "execution_count": 43,
      "outputs": []
    },
    {
      "cell_type": "code",
      "source": [
        "y_pred = model.predict(X_to_pred)"
      ],
      "metadata": {
        "id": "JGdbcyJtUFNd"
      },
      "execution_count": 44,
      "outputs": []
    },
    {
      "cell_type": "code",
      "source": [
        "y_pred.shape"
      ],
      "metadata": {
        "colab": {
          "base_uri": "https://localhost:8080/"
        },
        "id": "54zKAbX3Zkpv",
        "outputId": "b386c8e7-4200-4dea-e123-61b43a38ac35"
      },
      "execution_count": 45,
      "outputs": [
        {
          "output_type": "execute_result",
          "data": {
            "text/plain": [
              "(298, 14)"
            ]
          },
          "metadata": {},
          "execution_count": 45
        }
      ]
    },
    {
      "cell_type": "code",
      "source": [
        "pred_df = pd.DataFrame(y_pred, columns=label_encoder.classes_)\n",
        "pred_df"
      ],
      "metadata": {
        "colab": {
          "base_uri": "https://localhost:8080/",
          "height": 671
        },
        "id": "HEvHS0mkdHj2",
        "outputId": "49eb755a-b526-456c-dab5-184c0e061c84"
      },
      "execution_count": 48,
      "outputs": [
        {
          "output_type": "execute_result",
          "data": {
            "text/plain": [
              "        clear     drive      drop  full_smash  half_smash      lift       lob  \\\n",
              "0    0.002681  0.001565  0.002859     0.00143    0.002934  0.000184  0.007717   \n",
              "1    0.002681  0.001565  0.002859     0.00143    0.002934  0.000184  0.007717   \n",
              "2    0.002681  0.001565  0.002859     0.00143    0.002934  0.000184  0.007717   \n",
              "3    0.002681  0.001565  0.002859     0.00143    0.002934  0.000184  0.007717   \n",
              "4    0.002681  0.001565  0.002859     0.00143    0.002934  0.000184  0.007717   \n",
              "..        ...       ...       ...         ...         ...       ...       ...   \n",
              "293  0.002681  0.001565  0.002859     0.00143    0.002934  0.000184  0.007717   \n",
              "294  0.002681  0.001565  0.002859     0.00143    0.002934  0.000184  0.007717   \n",
              "295  0.002681  0.001565  0.002859     0.00143    0.002934  0.000184  0.007717   \n",
              "296  0.002681  0.001565  0.002859     0.00143    0.002934  0.000184  0.007717   \n",
              "297  0.002681  0.001565  0.002859     0.00143    0.002934  0.000184  0.007717   \n",
              "\n",
              "     long_def  long_serve  net_kill  net_shot    no_hit  short_def  \\\n",
              "0    0.000051    0.000131  0.000048  0.007408  0.966981   0.004614   \n",
              "1    0.000051    0.000131  0.000048  0.007408  0.966981   0.004614   \n",
              "2    0.000051    0.000131  0.000048  0.007408  0.966981   0.004614   \n",
              "3    0.000051    0.000131  0.000048  0.007408  0.966981   0.004614   \n",
              "4    0.000051    0.000131  0.000048  0.007408  0.966981   0.004614   \n",
              "..        ...         ...       ...       ...       ...        ...   \n",
              "293  0.000051    0.000131  0.000048  0.007408  0.966981   0.004614   \n",
              "294  0.000051    0.000131  0.000048  0.007408  0.966981   0.004614   \n",
              "295  0.000051    0.000131  0.000048  0.007408  0.966981   0.004614   \n",
              "296  0.000051    0.000131  0.000048  0.007408  0.966981   0.004614   \n",
              "297  0.000051    0.000131  0.000048  0.007408  0.966981   0.004614   \n",
              "\n",
              "     short_serve  \n",
              "0       0.001397  \n",
              "1       0.001397  \n",
              "2       0.001397  \n",
              "3       0.001397  \n",
              "4       0.001397  \n",
              "..           ...  \n",
              "293     0.001397  \n",
              "294     0.001397  \n",
              "295     0.001397  \n",
              "296     0.001397  \n",
              "297     0.001397  \n",
              "\n",
              "[298 rows x 14 columns]"
            ],
            "text/html": [
              "\n",
              "  <div id=\"df-f784dd03-1f4a-4431-b966-e824f1a3f935\">\n",
              "    <div class=\"colab-df-container\">\n",
              "      <div>\n",
              "<style scoped>\n",
              "    .dataframe tbody tr th:only-of-type {\n",
              "        vertical-align: middle;\n",
              "    }\n",
              "\n",
              "    .dataframe tbody tr th {\n",
              "        vertical-align: top;\n",
              "    }\n",
              "\n",
              "    .dataframe thead th {\n",
              "        text-align: right;\n",
              "    }\n",
              "</style>\n",
              "<table border=\"1\" class=\"dataframe\">\n",
              "  <thead>\n",
              "    <tr style=\"text-align: right;\">\n",
              "      <th></th>\n",
              "      <th>clear</th>\n",
              "      <th>drive</th>\n",
              "      <th>drop</th>\n",
              "      <th>full_smash</th>\n",
              "      <th>half_smash</th>\n",
              "      <th>lift</th>\n",
              "      <th>lob</th>\n",
              "      <th>long_def</th>\n",
              "      <th>long_serve</th>\n",
              "      <th>net_kill</th>\n",
              "      <th>net_shot</th>\n",
              "      <th>no_hit</th>\n",
              "      <th>short_def</th>\n",
              "      <th>short_serve</th>\n",
              "    </tr>\n",
              "  </thead>\n",
              "  <tbody>\n",
              "    <tr>\n",
              "      <th>0</th>\n",
              "      <td>0.002681</td>\n",
              "      <td>0.001565</td>\n",
              "      <td>0.002859</td>\n",
              "      <td>0.00143</td>\n",
              "      <td>0.002934</td>\n",
              "      <td>0.000184</td>\n",
              "      <td>0.007717</td>\n",
              "      <td>0.000051</td>\n",
              "      <td>0.000131</td>\n",
              "      <td>0.000048</td>\n",
              "      <td>0.007408</td>\n",
              "      <td>0.966981</td>\n",
              "      <td>0.004614</td>\n",
              "      <td>0.001397</td>\n",
              "    </tr>\n",
              "    <tr>\n",
              "      <th>1</th>\n",
              "      <td>0.002681</td>\n",
              "      <td>0.001565</td>\n",
              "      <td>0.002859</td>\n",
              "      <td>0.00143</td>\n",
              "      <td>0.002934</td>\n",
              "      <td>0.000184</td>\n",
              "      <td>0.007717</td>\n",
              "      <td>0.000051</td>\n",
              "      <td>0.000131</td>\n",
              "      <td>0.000048</td>\n",
              "      <td>0.007408</td>\n",
              "      <td>0.966981</td>\n",
              "      <td>0.004614</td>\n",
              "      <td>0.001397</td>\n",
              "    </tr>\n",
              "    <tr>\n",
              "      <th>2</th>\n",
              "      <td>0.002681</td>\n",
              "      <td>0.001565</td>\n",
              "      <td>0.002859</td>\n",
              "      <td>0.00143</td>\n",
              "      <td>0.002934</td>\n",
              "      <td>0.000184</td>\n",
              "      <td>0.007717</td>\n",
              "      <td>0.000051</td>\n",
              "      <td>0.000131</td>\n",
              "      <td>0.000048</td>\n",
              "      <td>0.007408</td>\n",
              "      <td>0.966981</td>\n",
              "      <td>0.004614</td>\n",
              "      <td>0.001397</td>\n",
              "    </tr>\n",
              "    <tr>\n",
              "      <th>3</th>\n",
              "      <td>0.002681</td>\n",
              "      <td>0.001565</td>\n",
              "      <td>0.002859</td>\n",
              "      <td>0.00143</td>\n",
              "      <td>0.002934</td>\n",
              "      <td>0.000184</td>\n",
              "      <td>0.007717</td>\n",
              "      <td>0.000051</td>\n",
              "      <td>0.000131</td>\n",
              "      <td>0.000048</td>\n",
              "      <td>0.007408</td>\n",
              "      <td>0.966981</td>\n",
              "      <td>0.004614</td>\n",
              "      <td>0.001397</td>\n",
              "    </tr>\n",
              "    <tr>\n",
              "      <th>4</th>\n",
              "      <td>0.002681</td>\n",
              "      <td>0.001565</td>\n",
              "      <td>0.002859</td>\n",
              "      <td>0.00143</td>\n",
              "      <td>0.002934</td>\n",
              "      <td>0.000184</td>\n",
              "      <td>0.007717</td>\n",
              "      <td>0.000051</td>\n",
              "      <td>0.000131</td>\n",
              "      <td>0.000048</td>\n",
              "      <td>0.007408</td>\n",
              "      <td>0.966981</td>\n",
              "      <td>0.004614</td>\n",
              "      <td>0.001397</td>\n",
              "    </tr>\n",
              "    <tr>\n",
              "      <th>...</th>\n",
              "      <td>...</td>\n",
              "      <td>...</td>\n",
              "      <td>...</td>\n",
              "      <td>...</td>\n",
              "      <td>...</td>\n",
              "      <td>...</td>\n",
              "      <td>...</td>\n",
              "      <td>...</td>\n",
              "      <td>...</td>\n",
              "      <td>...</td>\n",
              "      <td>...</td>\n",
              "      <td>...</td>\n",
              "      <td>...</td>\n",
              "      <td>...</td>\n",
              "    </tr>\n",
              "    <tr>\n",
              "      <th>293</th>\n",
              "      <td>0.002681</td>\n",
              "      <td>0.001565</td>\n",
              "      <td>0.002859</td>\n",
              "      <td>0.00143</td>\n",
              "      <td>0.002934</td>\n",
              "      <td>0.000184</td>\n",
              "      <td>0.007717</td>\n",
              "      <td>0.000051</td>\n",
              "      <td>0.000131</td>\n",
              "      <td>0.000048</td>\n",
              "      <td>0.007408</td>\n",
              "      <td>0.966981</td>\n",
              "      <td>0.004614</td>\n",
              "      <td>0.001397</td>\n",
              "    </tr>\n",
              "    <tr>\n",
              "      <th>294</th>\n",
              "      <td>0.002681</td>\n",
              "      <td>0.001565</td>\n",
              "      <td>0.002859</td>\n",
              "      <td>0.00143</td>\n",
              "      <td>0.002934</td>\n",
              "      <td>0.000184</td>\n",
              "      <td>0.007717</td>\n",
              "      <td>0.000051</td>\n",
              "      <td>0.000131</td>\n",
              "      <td>0.000048</td>\n",
              "      <td>0.007408</td>\n",
              "      <td>0.966981</td>\n",
              "      <td>0.004614</td>\n",
              "      <td>0.001397</td>\n",
              "    </tr>\n",
              "    <tr>\n",
              "      <th>295</th>\n",
              "      <td>0.002681</td>\n",
              "      <td>0.001565</td>\n",
              "      <td>0.002859</td>\n",
              "      <td>0.00143</td>\n",
              "      <td>0.002934</td>\n",
              "      <td>0.000184</td>\n",
              "      <td>0.007717</td>\n",
              "      <td>0.000051</td>\n",
              "      <td>0.000131</td>\n",
              "      <td>0.000048</td>\n",
              "      <td>0.007408</td>\n",
              "      <td>0.966981</td>\n",
              "      <td>0.004614</td>\n",
              "      <td>0.001397</td>\n",
              "    </tr>\n",
              "    <tr>\n",
              "      <th>296</th>\n",
              "      <td>0.002681</td>\n",
              "      <td>0.001565</td>\n",
              "      <td>0.002859</td>\n",
              "      <td>0.00143</td>\n",
              "      <td>0.002934</td>\n",
              "      <td>0.000184</td>\n",
              "      <td>0.007717</td>\n",
              "      <td>0.000051</td>\n",
              "      <td>0.000131</td>\n",
              "      <td>0.000048</td>\n",
              "      <td>0.007408</td>\n",
              "      <td>0.966981</td>\n",
              "      <td>0.004614</td>\n",
              "      <td>0.001397</td>\n",
              "    </tr>\n",
              "    <tr>\n",
              "      <th>297</th>\n",
              "      <td>0.002681</td>\n",
              "      <td>0.001565</td>\n",
              "      <td>0.002859</td>\n",
              "      <td>0.00143</td>\n",
              "      <td>0.002934</td>\n",
              "      <td>0.000184</td>\n",
              "      <td>0.007717</td>\n",
              "      <td>0.000051</td>\n",
              "      <td>0.000131</td>\n",
              "      <td>0.000048</td>\n",
              "      <td>0.007408</td>\n",
              "      <td>0.966981</td>\n",
              "      <td>0.004614</td>\n",
              "      <td>0.001397</td>\n",
              "    </tr>\n",
              "  </tbody>\n",
              "</table>\n",
              "<p>298 rows × 14 columns</p>\n",
              "</div>\n",
              "      <button class=\"colab-df-convert\" onclick=\"convertToInteractive('df-f784dd03-1f4a-4431-b966-e824f1a3f935')\"\n",
              "              title=\"Convert this dataframe to an interactive table.\"\n",
              "              style=\"display:none;\">\n",
              "        \n",
              "  <svg xmlns=\"http://www.w3.org/2000/svg\" height=\"24px\"viewBox=\"0 0 24 24\"\n",
              "       width=\"24px\">\n",
              "    <path d=\"M0 0h24v24H0V0z\" fill=\"none\"/>\n",
              "    <path d=\"M18.56 5.44l.94 2.06.94-2.06 2.06-.94-2.06-.94-.94-2.06-.94 2.06-2.06.94zm-11 1L8.5 8.5l.94-2.06 2.06-.94-2.06-.94L8.5 2.5l-.94 2.06-2.06.94zm10 10l.94 2.06.94-2.06 2.06-.94-2.06-.94-.94-2.06-.94 2.06-2.06.94z\"/><path d=\"M17.41 7.96l-1.37-1.37c-.4-.4-.92-.59-1.43-.59-.52 0-1.04.2-1.43.59L10.3 9.45l-7.72 7.72c-.78.78-.78 2.05 0 2.83L4 21.41c.39.39.9.59 1.41.59.51 0 1.02-.2 1.41-.59l7.78-7.78 2.81-2.81c.8-.78.8-2.07 0-2.86zM5.41 20L4 18.59l7.72-7.72 1.47 1.35L5.41 20z\"/>\n",
              "  </svg>\n",
              "      </button>\n",
              "      \n",
              "  <style>\n",
              "    .colab-df-container {\n",
              "      display:flex;\n",
              "      flex-wrap:wrap;\n",
              "      gap: 12px;\n",
              "    }\n",
              "\n",
              "    .colab-df-convert {\n",
              "      background-color: #E8F0FE;\n",
              "      border: none;\n",
              "      border-radius: 50%;\n",
              "      cursor: pointer;\n",
              "      display: none;\n",
              "      fill: #1967D2;\n",
              "      height: 32px;\n",
              "      padding: 0 0 0 0;\n",
              "      width: 32px;\n",
              "    }\n",
              "\n",
              "    .colab-df-convert:hover {\n",
              "      background-color: #E2EBFA;\n",
              "      box-shadow: 0px 1px 2px rgba(60, 64, 67, 0.3), 0px 1px 3px 1px rgba(60, 64, 67, 0.15);\n",
              "      fill: #174EA6;\n",
              "    }\n",
              "\n",
              "    [theme=dark] .colab-df-convert {\n",
              "      background-color: #3B4455;\n",
              "      fill: #D2E3FC;\n",
              "    }\n",
              "\n",
              "    [theme=dark] .colab-df-convert:hover {\n",
              "      background-color: #434B5C;\n",
              "      box-shadow: 0px 1px 3px 1px rgba(0, 0, 0, 0.15);\n",
              "      filter: drop-shadow(0px 1px 2px rgba(0, 0, 0, 0.3));\n",
              "      fill: #FFFFFF;\n",
              "    }\n",
              "  </style>\n",
              "\n",
              "      <script>\n",
              "        const buttonEl =\n",
              "          document.querySelector('#df-f784dd03-1f4a-4431-b966-e824f1a3f935 button.colab-df-convert');\n",
              "        buttonEl.style.display =\n",
              "          google.colab.kernel.accessAllowed ? 'block' : 'none';\n",
              "\n",
              "        async function convertToInteractive(key) {\n",
              "          const element = document.querySelector('#df-f784dd03-1f4a-4431-b966-e824f1a3f935');\n",
              "          const dataTable =\n",
              "            await google.colab.kernel.invokeFunction('convertToInteractive',\n",
              "                                                     [key], {});\n",
              "          if (!dataTable) return;\n",
              "\n",
              "          const docLinkHtml = 'Like what you see? Visit the ' +\n",
              "            '<a target=\"_blank\" href=https://colab.research.google.com/notebooks/data_table.ipynb>data table notebook</a>'\n",
              "            + ' to learn more about interactive tables.';\n",
              "          element.innerHTML = '';\n",
              "          dataTable['output_type'] = 'display_data';\n",
              "          await google.colab.output.renderOutput(dataTable, element);\n",
              "          const docLink = document.createElement('div');\n",
              "          docLink.innerHTML = docLinkHtml;\n",
              "          element.appendChild(docLink);\n",
              "        }\n",
              "      </script>\n",
              "    </div>\n",
              "  </div>\n",
              "  "
            ]
          },
          "metadata": {},
          "execution_count": 48
        }
      ]
    },
    {
      "cell_type": "code",
      "source": [
        "y_truth = test_dict['match9/rally_video/1_02_03.mp4'][1]"
      ],
      "metadata": {
        "id": "P9x57FjrbJXZ"
      },
      "execution_count": null,
      "outputs": []
    },
    {
      "cell_type": "code",
      "source": [
        "y_truth"
      ],
      "metadata": {
        "id": "_V_W6GMxbesL"
      },
      "execution_count": null,
      "outputs": []
    },
    {
      "cell_type": "code",
      "source": [
        "label_encoder.classes_"
      ],
      "metadata": {
        "colab": {
          "base_uri": "https://localhost:8080/"
        },
        "id": "mUTAcXqq9q2Q",
        "outputId": "ad489b39-140e-4351-c0ba-8ea3bfb84e41"
      },
      "execution_count": null,
      "outputs": [
        {
          "output_type": "execute_result",
          "data": {
            "text/plain": [
              "array(['clear', 'drive', 'drop', 'full_smash', 'half_smash', 'lift',\n",
              "       'lob', 'long_def', 'long_serve', 'net_kill', 'net_shot', 'no_hit',\n",
              "       'short_def', 'short_serve'], dtype='<U32')"
            ]
          },
          "metadata": {},
          "execution_count": 52
        }
      ]
    }
  ]
}