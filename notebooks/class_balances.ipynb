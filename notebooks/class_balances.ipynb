{
 "cells": [
  {
   "cell_type": "code",
   "execution_count": 20,
   "id": "1ae5ed48",
   "metadata": {},
   "outputs": [],
   "source": [
    "from bva.preprocess import get_all_videos_sequences_by_window\n",
    "import matplotlib.pyplot as plt\n",
    "import numpy as np\n",
    "import pandas as pd"
   ]
  },
  {
   "cell_type": "code",
   "execution_count": 2,
   "id": "96cafa18",
   "metadata": {},
   "outputs": [
    {
     "name": "stdout",
     "output_type": "stream",
     "text": [
      "/home/theo/code/theopanel/bva/notebooks\r\n"
     ]
    }
   ],
   "source": [
    "!pwd"
   ]
  },
  {
   "cell_type": "code",
   "execution_count": 3,
   "id": "503b67a4",
   "metadata": {},
   "outputs": [],
   "source": [
    "video_url = \"../bva/data/video_details.csv\"\n",
    "clean_df = \"../bva/data/clean_dataset.csv\""
   ]
  },
  {
   "cell_type": "code",
   "execution_count": 24,
   "id": "c8cced75",
   "metadata": {},
   "outputs": [],
   "source": [
    "df_shots, all_videos_sequences, all_videos_targets, test_dict = get_all_videos_sequences_by_window(video_url, clean_df, 11, 5)"
   ]
  },
  {
   "cell_type": "code",
   "execution_count": 25,
   "id": "ee184366",
   "metadata": {},
   "outputs": [
    {
     "data": {
      "text/plain": [
       "(43190, 10, 11)"
      ]
     },
     "execution_count": 25,
     "metadata": {},
     "output_type": "execute_result"
    }
   ],
   "source": [
    "all_videos_sequences.shape"
   ]
  },
  {
   "cell_type": "code",
   "execution_count": 27,
   "id": "504f86b6",
   "metadata": {},
   "outputs": [
    {
     "name": "stdout",
     "output_type": "stream",
     "text": [
      "[['clear' '121']\n",
      " ['drive' '78']\n",
      " ['drop' '125']\n",
      " ['full_smash' '79']\n",
      " ['half_smash' '127']\n",
      " ['lift' '33']\n",
      " ['lob' '282']\n",
      " ['long_def' '18']\n",
      " ['long_serve' '23']\n",
      " ['net_kill' '13']\n",
      " ['net_shot' '278']\n",
      " ['no_hit' '41759']\n",
      " ['short_def' '185']\n",
      " ['short_serve' '69']]\n"
     ]
    }
   ],
   "source": [
    "unique, counts = np.unique(all_videos_targets, return_counts=True)\n",
    "print (np.asarray((unique, counts)).T)"
   ]
  },
  {
   "cell_type": "code",
   "execution_count": 28,
   "id": "d9e8d674",
   "metadata": {},
   "outputs": [
    {
     "data": {
      "text/plain": [
       "(array([4.1828e+04, 2.8200e+02, 1.2100e+02, 4.0300e+02, 7.8000e+01,\n",
       "        1.8500e+02, 2.0600e+02, 3.3000e+01, 1.8000e+01, 3.6000e+01]),\n",
       " array([ 0. ,  1.3,  2.6,  3.9,  5.2,  6.5,  7.8,  9.1, 10.4, 11.7, 13. ]),\n",
       " <BarContainer object of 10 artists>)"
      ]
     },
     "execution_count": 28,
     "metadata": {},
     "output_type": "execute_result"
    },
    {
     "data": {
      "image/png": "[encoded data removed]",
      "text/plain": [
       "<Figure size 432x288 with 1 Axes>"
      ]
     },
     "metadata": {
      "needs_background": "light"
     },
     "output_type": "display_data"
    }
   ],
   "source": [
    "plt.hist(all_videos_targets)"
   ]
  },
  {
   "cell_type": "code",
   "execution_count": null,
   "id": "a205628c",
   "metadata": {},
   "outputs": [],
   "source": []
  }
 ],
 "metadata": {
  "kernelspec": {
   "display_name": "Python 3 (ipykernel)",
   "language": "python",
   "name": "python3"
  },
  "language_info": {
   "codemirror_mode": {
    "name": "ipython",
    "version": 3
   },
   "file_extension": ".py",
   "mimetype": "text/x-python",
   "name": "python",
   "nbconvert_exporter": "python",
   "pygments_lexer": "ipython3",
   "version": "3.8.12"
  },
  "toc": {
   "base_numbering": 1,
   "nav_menu": {},
   "number_sections": true,
   "sideBar": true,
   "skip_h1_title": false,
   "title_cell": "Table of Contents",
   "title_sidebar": "Contents",
   "toc_cell": false,
   "toc_position": {},
   "toc_section_display": true,
   "toc_window_display": false
  }
 },
 "nbformat": 4,
 "nbformat_minor": 5
}
